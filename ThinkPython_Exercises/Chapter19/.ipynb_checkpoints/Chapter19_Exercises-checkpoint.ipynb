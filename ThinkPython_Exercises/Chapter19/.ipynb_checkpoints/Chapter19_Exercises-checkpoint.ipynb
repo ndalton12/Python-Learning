{
 "cells": [
  {
   "cell_type": "markdown",
   "metadata": {},
   "source": [
    "# Chapter 19 Exercises"
   ]
  },
  {
   "cell_type": "markdown",
   "metadata": {},
   "source": [
    "## Exercise 19.1\n",
    "The following is a function computes the binomial coefficient recursively."
   ]
  },
  {
   "cell_type": "code",
   "execution_count": 3,
   "metadata": {
    "collapsed": true
   },
   "outputs": [],
   "source": [
    "def binomial_coeff(n, k):\n",
    "    \"\"\"Compute the binomial coefficient \"n choose k\".\n",
    "    n: number of trials\n",
    "    k: number of successes\n",
    "    returns: int\n",
    "    \"\"\"\n",
    "    if k == 0:\n",
    "        return 1\n",
    "    if n == 0:\n",
    "        return 0\n",
    "    \n",
    "    res = binomial_coeff(n-1, k) + binomial_coeff(n-1, k-1)\n",
    "    return res"
   ]
  },
  {
   "cell_type": "markdown",
   "metadata": {},
   "source": [
    "Rewrite the body of the function using nested conditional expressions."
   ]
  },
  {
   "cell_type": "code",
   "execution_count": 5,
   "metadata": {
    "collapsed": false
   },
   "outputs": [],
   "source": [
    "def binomial_coeff2(n, k):\n",
    "    \"\"\"Compute the binomial coefficient \"n choose k\".\n",
    "    n: number of trials\n",
    "    k: number of successes\n",
    "    returns: int\n",
    "    \"\"\"\n",
    "\n",
    "    return 0 if k == 0 else 1 if n == 0 else binomial_coeff(n-1, k) + binomial_coeff(n-1, k-1)"
   ]
  },
  {
   "cell_type": "code",
   "execution_count": 9,
   "metadata": {
    "collapsed": false
   },
   "outputs": [
    {
     "name": "stdout",
     "output_type": "stream",
     "text": [
      "56\n",
      "56\n",
      "10\n",
      "10\n",
      "7\n",
      "7\n"
     ]
    }
   ],
   "source": [
    "print(binomial_coeff(8,3))\n",
    "print(binomial_coeff2(8,3))\n",
    "print(binomial_coeff(5,3))\n",
    "print(binomial_coeff2(5,3))\n",
    "print(binomial_coeff(7,6))\n",
    "print(binomial_coeff2(7,6))"
   ]
  }
 ],
 "metadata": {
  "kernelspec": {
   "display_name": "Python 3",
   "language": "python",
   "name": "python3"
  },
  "language_info": {
   "codemirror_mode": {
    "name": "ipython",
    "version": 3
   },
   "file_extension": ".py",
   "mimetype": "text/x-python",
   "name": "python",
   "nbconvert_exporter": "python",
   "pygments_lexer": "ipython3",
   "version": "3.6.0"
  }
 },
 "nbformat": 4,
 "nbformat_minor": 2
}
