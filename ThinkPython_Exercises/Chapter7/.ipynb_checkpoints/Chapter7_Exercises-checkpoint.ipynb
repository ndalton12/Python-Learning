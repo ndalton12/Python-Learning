{
 "cells": [
  {
   "cell_type": "markdown",
   "metadata": {},
   "source": [
    "# Chapter 7 Exercises"
   ]
  },
  {
   "cell_type": "markdown",
   "metadata": {},
   "source": [
    "## Exercise 7.1\n",
    "Copy the loop from Section 7.5 and encapsulate it in a function called mysqrt that\n",
    "takes a as a parameter, chooses a reasonable value of x, and returns an estimate of the square root of\n",
    "a.\n",
    "To test it, write a function named test_square_root that prints a table\n",
    "\n",
    "The first column is a number, a; the second column is the square root of a computed with mysqrt;\n",
    "the third column is the square root computed by math.sqrt; the fourth column is the absolute value\n",
    "of the difference between the two estimates."
   ]
  },
  {
   "cell_type": "code",
   "execution_count": 19,
   "metadata": {
    "collapsed": false
   },
   "outputs": [
    {
     "name": "stdout",
     "output_type": "stream",
     "text": [
      "a\tmysqrt(a)\tmath.sqrt(a)\tdiff\n",
      "-\t---------\t------------\t----\n",
      "1.0\t1.0000\t\t1.0000\t\t0.0000\n",
      "2.0\t1.4142\t\t1.4142\t\t0.0000\n",
      "3.0\t1.7321\t\t1.7321\t\t0.0000\n",
      "4.0\t2.0000\t\t2.0000\t\t0.0000\n",
      "5.0\t2.2361\t\t2.2361\t\t0.0000\n",
      "6.0\t2.4495\t\t2.4495\t\t0.0000\n",
      "7.0\t2.6458\t\t2.6458\t\t0.0000\n",
      "8.0\t2.8284\t\t2.8284\t\t0.0000\n",
      "9.0\t3.0000\t\t3.0000\t\t0.0000\n",
      "\n"
     ]
    }
   ],
   "source": [
    "import math\n",
    "\n",
    "epsilon = 0.000001\n",
    "\n",
    "def mysqrt(a):\n",
    "    x = math.log2(a)\n",
    "    \n",
    "    if x == 0:\n",
    "        x = 1\n",
    "    \n",
    "    while True:\n",
    "        y = (x + a/x) / 2\n",
    "        if abs(y-x) < epsilon:\n",
    "            break\n",
    "        x = y\n",
    "    \n",
    "    return y\n",
    "\n",
    "def test_square_root():\n",
    "    print('a\\tmysqrt(a)\\tmath.sqrt(a)\\tdiff')\n",
    "    print('-\\t---------\\t------------\\t----')\n",
    "    for i in range(1, 10):\n",
    "        print('{:.1f}\\t{:.4f}\\t\\t{:.4f}\\t\\t{:.4f}'.format(i, mysqrt(i), math.sqrt(i), abs(math.sqrt(i) - mysqrt(i)) ))\n",
    "    print()\n",
    "    \n",
    "test_square_root()\n"
   ]
  },
  {
   "cell_type": "markdown",
   "metadata": {},
   "source": [
    "## Exercise 7.2\n",
    "The built-in function eval takes a string and evaluates it using the Python interpreter.\n",
    "\n",
    "Write a function called eval_loop that iteratively prompts the user, takes the resulting input and\n",
    "evaluates it using eval, and prints the result.\n",
    "\n",
    "It should continue until the user enters 'done', and then return the value of the last expression it\n",
    "evaluated."
   ]
  },
  {
   "cell_type": "code",
   "execution_count": 28,
   "metadata": {
    "collapsed": false
   },
   "outputs": [
    {
     "name": "stdout",
     "output_type": "stream",
     "text": [
      "Enter your prompt or type \"done\" to finish:math.pi\n",
      "3.141592653589793\n",
      "Enter your prompt or type \"done\" to finish:done\n",
      "The return val is: 3.141592653589793\n"
     ]
    }
   ],
   "source": [
    "def eval_loop():\n",
    "    temp = None\n",
    "    while True:\n",
    "        userInput = input('Enter your prompt or type \"done\" to finish:')\n",
    "        \n",
    "        if userInput == 'done':\n",
    "            return temp\n",
    "            \n",
    "        print(eval(userInput))\n",
    "        \n",
    "        temp = eval(userInput)\n",
    "        \n",
    "returnVal = eval_loop()\n",
    "\n",
    "print('The return val is: {}'.format(returnVal))"
   ]
  },
  {
   "cell_type": "markdown",
   "metadata": {},
   "source": [
    "## Exercise 7.3\n",
    "The mathematician Srinivasa Ramanujan found an infinite series that can be used to\n",
    "generate a numerical approximation of 1/π:\n",
    "\n",
    "(Excluded here)\n",
    "\n",
    "Write a function called estimate_pi that uses this formula to compute and return an estimate of\n",
    "π. It should use a while loop to compute terms of the summation until the last term is smaller than\n",
    "1e-15 (which is Python notation for 10−15). You can check the result by comparing it to math.pi."
   ]
  },
  {
   "cell_type": "code",
   "execution_count": 30,
   "metadata": {
    "collapsed": false
   },
   "outputs": [
    {
     "name": "stdout",
     "output_type": "stream",
     "text": [
      "3.141592653589793\n"
     ]
    }
   ],
   "source": [
    "def estimate_pi():\n",
    "    k = 0\n",
    "    summation = 0\n",
    "    while True:\n",
    "        term = ((math.factorial(4*k))*(1103 + 26390*k))/((math.factorial(k)**4)*(396)**(4*k))\n",
    "        \n",
    "        summation += term\n",
    "        \n",
    "        if term < 1e-15:\n",
    "            break\n",
    "        else:\n",
    "            k += 1\n",
    "            \n",
    "    pi = (summation * ((2*math.sqrt(2))/9801))**-1\n",
    "    \n",
    "    return pi\n",
    "\n",
    "print(estimate_pi())\n",
    "        "
   ]
  },
  {
   "cell_type": "markdown",
   "metadata": {},
   "source": [
    "Neat"
   ]
  }
 ],
 "metadata": {
  "kernelspec": {
   "display_name": "Python 3",
   "language": "python",
   "name": "python3"
  },
  "language_info": {
   "codemirror_mode": {
    "name": "ipython",
    "version": 3
   },
   "file_extension": ".py",
   "mimetype": "text/x-python",
   "name": "python",
   "nbconvert_exporter": "python",
   "pygments_lexer": "ipython3",
   "version": "3.6.0"
  }
 },
 "nbformat": 4,
 "nbformat_minor": 2
}
