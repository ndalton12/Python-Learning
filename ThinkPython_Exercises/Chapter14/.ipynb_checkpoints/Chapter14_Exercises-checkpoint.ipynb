{
 "cells": [
  {
   "cell_type": "markdown",
   "metadata": {},
   "source": [
    "# Chapter 14 Exercises"
   ]
  },
  {
   "cell_type": "markdown",
   "metadata": {},
   "source": [
    "## Exercise 14.1\n",
    "Write a function called sed that takes as arguments a pattern string, a replacement\n",
    "string, and two filenames; it should read the first file and write the contents into the second file\n",
    "(creating it if necessary). If the pattern string appears anywhere in the file, it should be replaced\n",
    "with the replacement string.\n",
    "If an error occurs while opening, reading, writing or closing files, your program should catch the\n",
    "exception, print an error message, and exit."
   ]
  },
  {
   "cell_type": "code",
   "execution_count": 1,
   "metadata": {
    "collapsed": true
   },
   "outputs": [],
   "source": [
    "def sed(pttrn, replace, file1, file2):\n",
    "    try:\n",
    "        fin = open(file1, 'r')\n",
    "    except:\n",
    "        print('Error opening file one')\n",
    "        return -1\n",
    "    \n",
    "    try:\n",
    "        fout = open(file2, 'w')\n",
    "    except:\n",
    "        print('Error opening file two')\n",
    "        return -1\n",
    "    \n",
    "    try:\n",
    "        for line in fin:\n",
    "            if pttrn in line:\n",
    "                line = line.replace(pttrn, replace, len(line))\n",
    "            \n",
    "            fout.write(line)\n",
    "    except:\n",
    "        print('Error writing to file two')\n",
    "        return -1\n",
    "        \n",
    "    try:\n",
    "        fin.close()\n",
    "        fout.close()\n",
    "    except:\n",
    "        print('Error closing files')\n",
    "        return -1\n",
    "\n",
    "    return None\n",
    "\n"
   ]
  },
  {
   "cell_type": "markdown",
   "metadata": {},
   "source": [
    "## Exercise 14.2\n",
    "If you download my solution to Exercise 12.2 from http: // thinkpython2. com/\n",
    "code/ anagram_ sets. py , you’ll see that it creates a dictionary that maps from a sorted string of\n",
    "letters to the list of words that can be spelled with those letters. For example, 'opst' maps to the\n",
    "list ['opts', 'post', 'pots', 'spot', 'stop', 'tops'].\n",
    "Write a module that imports anagram_sets and provides two new functions: store_anagrams\n",
    "should store the anagram dictionary in a “shelf”; read_anagrams should look up a word and return\n",
    "a list of its anagrams."
   ]
  },
  {
   "cell_type": "code",
   "execution_count": 8,
   "metadata": {
    "collapsed": false,
    "scrolled": true
   },
   "outputs": [
    {
     "name": "stdout",
     "output_type": "stream",
     "text": [
      "['appel', 'apple', 'pepla']\n",
      "Finished\n"
     ]
    }
   ],
   "source": [
    "import anagram_sets as anaset\n",
    "import shelve\n",
    "\n",
    "def store_anagrams(filename, d):\n",
    "    \"\"\"d is an anagram dictionary\"\"\"\n",
    "    \n",
    "    with shelve.open(filename, 'c') as db:\n",
    "        for key, val in d.items():\n",
    "            db[key] = val\n",
    "            \n",
    "def read_anagrams(filename, word):\n",
    "    \"\"\"db is a database file that maps from words to a list of anagrams\"\"\"\n",
    "    try:\n",
    "        with shelve.open(filename) as db:\n",
    "            return db[anaset.signature(word)]\n",
    "    except:\n",
    "        print('Error')\n",
    "        return -1\n",
    "\n",
    "if __name__ == '__main__':\n",
    "    wordict = anaset.all_anagrams('words.txt')\n",
    "    # store_anagrams('anagrams', wordict) \n",
    "    # ^^^ only run once, takes forever to actually finish so just use words early in the dictionary\n",
    "    print(read_anagrams('anagrams', 'apple'))\n",
    "    print('Finished')"
   ]
  },
  {
   "cell_type": "markdown",
   "metadata": {
    "collapsed": true
   },
   "source": [
    "## Exercise 14.3\n",
    "In a large collection of MP3 files, there may be more than one copy of the same song,\n",
    "stored in different directories or with different file names. The goal of this exercise is to search for\n",
    "duplicates.\n",
    "1. Write a program that searches a directory and all of its subdirectories, recursively, and returns\n",
    "a list of complete paths for all files with a given suffix (like .mp3). Hint: os.path provides\n",
    "several useful functions for manipulating file and path names.\n",
    "2. To recognize duplicates, you can use md5sum to compute a “checksum” for each files. If two\n",
    "files have the same checksum, they probably have the same contents.\n",
    "3. To double-check, you can use the Unix command diff.\n"
   ]
  },
  {
   "cell_type": "code",
   "execution_count": 23,
   "metadata": {
    "collapsed": false,
    "scrolled": true
   },
   "outputs": [
    {
     "data": {
      "text/plain": [
       "['C:\\\\Users\\\\Jim\\\\Music\\\\test\\\\song1.mp3',\n",
       " 'C:\\\\Users\\\\Jim\\\\Music\\\\test\\\\song2.mp3',\n",
       " 'C:\\\\Users\\\\Jim\\\\Music\\\\test\\\\song3.mp3',\n",
       " 'C:\\\\Users\\\\Jim\\\\Music\\\\test\\\\song4.mp3',\n",
       " 'C:\\\\Users\\\\Jim\\\\Music\\\\test\\\\song5.mp3',\n",
       " 'C:\\\\Users\\\\Jim\\\\Music\\\\test\\\\song6.mp3',\n",
       " 'C:\\\\Users\\\\Jim\\\\Music\\\\test\\\\song7.mp3',\n",
       " 'C:\\\\Users\\\\Jim\\\\Music\\\\test\\\\test2\\\\asdf.mp3',\n",
       " 'C:\\\\Users\\\\Jim\\\\Music\\\\test\\\\test2\\\\asdf2.mp3']"
      ]
     },
     "execution_count": 23,
     "metadata": {},
     "output_type": "execute_result"
    }
   ],
   "source": [
    "import os\n",
    "\n",
    "def find_suffix_files(dirname, suffix):\n",
    "    checksums = dict()\n",
    "    paths = []\n",
    "    dups = []\n",
    "    \n",
    "    for root, dirs, files in os.walk(dirname):\n",
    "        for filename in files:\n",
    "            file = os.path.join(root, filename)\n",
    "            if file.endswith(suffix):\n",
    "                cmd = 'md5sum ' + file\n",
    "                fp = os.popen(cmd)\n",
    "                res = fp.read()\n",
    "                stat = fp.close()\n",
    "                #print(file)\n",
    "                #print(res)\n",
    "                #print(stat)\n",
    "                checksums[str(res)] = checksums.get(file, 0) + 1\n",
    "                if checksums[str(res)] == 1:\n",
    "                    paths.append(file)\n",
    "                else:\n",
    "                    dups.append(file)\n",
    "                    \n",
    "    return dups\n",
    "\n",
    "find_suffix_files('C:\\\\Users\\\\Jim\\\\Music', '.mp3')\n",
    "\n",
    "# I'm not on unix when runninng this so it does not output properly"
   ]
  }
 ],
 "metadata": {
  "kernelspec": {
   "display_name": "Python 3",
   "language": "python",
   "name": "python3"
  },
  "language_info": {
   "codemirror_mode": {
    "name": "ipython",
    "version": 3
   },
   "file_extension": ".py",
   "mimetype": "text/x-python",
   "name": "python",
   "nbconvert_exporter": "python",
   "pygments_lexer": "ipython3",
   "version": "3.6.0"
  }
 },
 "nbformat": 4,
 "nbformat_minor": 2
}
