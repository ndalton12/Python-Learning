{
 "cells": [
  {
   "cell_type": "markdown",
   "metadata": {},
   "source": [
    "# Chapter 10 Exercises"
   ]
  },
  {
   "cell_type": "markdown",
   "metadata": {},
   "source": [
    "## Exercise 10.1\n",
    "Write a function called nested_sum that takes a list of lists of integers and adds up\n",
    "the elements from all of the nested lists"
   ]
  },
  {
   "cell_type": "code",
   "execution_count": 1,
   "metadata": {
    "collapsed": false
   },
   "outputs": [
    {
     "name": "stdout",
     "output_type": "stream",
     "text": [
      "21\n"
     ]
    }
   ],
   "source": [
    "def nested_sum(t):\n",
    "    summation = 0\n",
    "    for element in t:\n",
    "        summation += sum(element)\n",
    "    return summation\n",
    "\n",
    "print(nested_sum( [[1, 2], [3], [4, 5, 6]]))"
   ]
  },
  {
   "cell_type": "markdown",
   "metadata": {},
   "source": [
    "## Exercise 10.2\n",
    "Write a function called csum that takes a list of numbers and returns the cumulative\n",
    "sum; that is, a new list where the ith element is the sum of the first i + 1 elements from the\n",
    "original list"
   ]
  },
  {
   "cell_type": "code",
   "execution_count": 2,
   "metadata": {
    "collapsed": false
   },
   "outputs": [
    {
     "name": "stdout",
     "output_type": "stream",
     "text": [
      "[1, 3, 6]\n"
     ]
    }
   ],
   "source": [
    "def csum(t):\n",
    "    new = []\n",
    "    for i in range(len(t)):\n",
    "        new.append(sum(t[:i+1])) \n",
    "    return new\n",
    "\n",
    "print(csum([1, 2, 3]))"
   ]
  },
  {
   "cell_type": "markdown",
   "metadata": {},
   "source": [
    "## Exercise 10.3\n",
    "Write a function called middle that takes a list and returns a new list that contains\n",
    "all but the first and last elements"
   ]
  },
  {
   "cell_type": "code",
   "execution_count": 3,
   "metadata": {
    "collapsed": false
   },
   "outputs": [
    {
     "name": "stdout",
     "output_type": "stream",
     "text": [
      "[2, 3]\n"
     ]
    }
   ],
   "source": [
    "def middle(t):\n",
    "    new = t[1:len(t)-1]\n",
    "    return new\n",
    "\n",
    "print(middle( [1, 2, 3, 4]))"
   ]
  },
  {
   "cell_type": "markdown",
   "metadata": {},
   "source": [
    "## Exercise 10.4\n",
    "Write a function called chop that takes a list, modifies it by removing the first and\n",
    "last elements, and returns None."
   ]
  },
  {
   "cell_type": "code",
   "execution_count": 4,
   "metadata": {
    "collapsed": false
   },
   "outputs": [
    {
     "name": "stdout",
     "output_type": "stream",
     "text": [
      "[2, 3]\n"
     ]
    }
   ],
   "source": [
    "def chop(t):\n",
    "    del t[0]\n",
    "    del t[len(t) - 1]\n",
    "    \n",
    "t = [1, 2, 3, 4]\n",
    "\n",
    "chop(t)\n",
    "\n",
    "print(t)\n"
   ]
  },
  {
   "cell_type": "markdown",
   "metadata": {},
   "source": [
    "## Exercise 10.5\n",
    "Write a function called is_sorted that takes a list as a parameter and returns True\n",
    "if the list is sorted in ascending order and False otherwise. For example:"
   ]
  },
  {
   "cell_type": "code",
   "execution_count": 5,
   "metadata": {
    "collapsed": false
   },
   "outputs": [
    {
     "name": "stdout",
     "output_type": "stream",
     "text": [
      "[1, 2, 3, 4]\n",
      "[1, 2, 3, 4]\n",
      "True\n",
      "[2, 1, 3, 4]\n",
      "[1, 2, 3, 4]\n",
      "False\n"
     ]
    }
   ],
   "source": [
    "def is_sorted(t):\n",
    "    t2 = t[:]\n",
    "    t2.sort()\n",
    "    print(t)\n",
    "    print(t2)\n",
    "    if t == t2:\n",
    "        return True\n",
    "    else:\n",
    "        return False\n",
    "        \n",
    "print(is_sorted([1,2,3,4]))\n",
    "print(is_sorted([2,1,3,4]))"
   ]
  },
  {
   "cell_type": "markdown",
   "metadata": {},
   "source": [
    "## Exercise 10.6\n",
    "Two words are anagrams if you can rearrange the letters from one to spell the other.\n",
    "Write a function called is_anagram that takes two strings and returns True if they are anagrams."
   ]
  },
  {
   "cell_type": "code",
   "execution_count": 6,
   "metadata": {
    "collapsed": false
   },
   "outputs": [
    {
     "name": "stdout",
     "output_type": "stream",
     "text": [
      "True\n",
      "True\n",
      "True\n",
      "False\n"
     ]
    }
   ],
   "source": [
    "def is_anagram(s1,s2):\n",
    "    t1 = list(s1.lower())\n",
    "    t2 = list(s2.lower())\n",
    "    t1.sort()\n",
    "    t2.sort()\n",
    "    \n",
    "    if t1 == t2:\n",
    "        return True\n",
    "    else:\n",
    "        return False\n",
    "    \n",
    "print(is_anagram(\"billy\", \"llyib\"))\n",
    "print(is_anagram(\"parliament \", \"partial men\"))\n",
    "print(is_anagram(\"Clint Eastwood \", \"Old West Action\"))\n",
    "print(is_anagram(\"Clint Eastwood \", \"Old West aaAction\"))"
   ]
  },
  {
   "cell_type": "markdown",
   "metadata": {},
   "source": [
    "## Exercise 10.7\n",
    "Write a function called has_duplicates that takes a list and returns True if there\n",
    "is any element that appears more than once. It should not modify the original list.\n"
   ]
  },
  {
   "cell_type": "code",
   "execution_count": 7,
   "metadata": {
    "collapsed": false
   },
   "outputs": [
    {
     "name": "stdout",
     "output_type": "stream",
     "text": [
      "True\n",
      "False\n"
     ]
    }
   ],
   "source": [
    "def has_duplicates(t):\n",
    "    \"\"\"Does not work for nested lists\"\"\"\n",
    "    tmp = t[:]\n",
    "    tmp.sort()\n",
    "    for i in range(len(tmp)):\n",
    "        for j in range(i+1, len(tmp)):\n",
    "            if tmp[i] == tmp[j]:\n",
    "                return True\n",
    "    return False\n",
    "\n",
    "print(has_duplicates([1,1,2]))\n",
    "print(has_duplicates([1,2,3]))"
   ]
  },
  {
   "cell_type": "markdown",
   "metadata": {},
   "source": [
    "## Exercise 10.8\n",
    "This exercise pertains to the so-called Birthday Paradox, which you can read about\n",
    "at http: // en. wikipedia. org/ wiki/ Birthday_ paradox .\n",
    "If there are 23 students in your class, what are the chances that two of you have the same birthday?\n",
    "You can estimate this probability by generating random samples of 23 birthdays and checking for\n",
    "matches. Hint: you can generate random birthdays with the randint function in the random\n",
    "module"
   ]
  },
  {
   "cell_type": "code",
   "execution_count": 8,
   "metadata": {
    "collapsed": false
   },
   "outputs": [
    {
     "name": "stdout",
     "output_type": "stream",
     "text": [
      "51.22% there is at least one match\n"
     ]
    }
   ],
   "source": [
    "import random as rand\n",
    "\n",
    "def tester(n):\n",
    "    bigcount = 0\n",
    "    for i in range(n):\n",
    "        birthdays = []\n",
    "\n",
    "        students = 23\n",
    "\n",
    "        for i in range(students):\n",
    "            birthdays.append(rand.randint(0, 365))\n",
    "\n",
    "        tmp = birthdays[:]\n",
    "\n",
    "        tmp.sort()\n",
    "        count = 0\n",
    "        #print(tmp)\n",
    "\n",
    "        for i in range(len(tmp)):\n",
    "                for j in range(i+1, len(tmp)):\n",
    "                    if tmp[i] == tmp[j]:\n",
    "                        count = 1\n",
    "                        break\n",
    "        if count == 1:\n",
    "            bigcount += 1\n",
    "    print('{}% there is at least one match'.format(bigcount/n*100))\n",
    "\n",
    "tester(5000)"
   ]
  },
  {
   "cell_type": "markdown",
   "metadata": {},
   "source": [
    "## Exercise 10.9\n",
    "Write a function that reads the file words.txt and builds a list with one element\n",
    "per word. Write two versions of this function, one using the append method and the other using\n",
    "the idiom t = t + [x]. Which one takes longer to run? Why?"
   ]
  },
  {
   "cell_type": "code",
   "execution_count": 7,
   "metadata": {
    "collapsed": false
   },
   "outputs": [
    {
     "name": "stdout",
     "output_type": "stream",
     "text": [
      "--- 0.0451202392578125 seconds ---\n"
     ]
    }
   ],
   "source": [
    "import time\n",
    "\n",
    "start_time = time.time()\n",
    "\n",
    "def maker1():\n",
    "    fin = open('words.txt')\n",
    "    new = []\n",
    "    \n",
    "    for line in fin:\n",
    "        new.append(line.strip())\n",
    "        \n",
    "    #return new\n",
    "        \n",
    "maker1()\n",
    "\n",
    "print(\"--- %s seconds ---\" % (time.time() - start_time))"
   ]
  },
  {
   "cell_type": "code",
   "execution_count": 8,
   "metadata": {
    "collapsed": false
   },
   "outputs": [
    {
     "name": "stdout",
     "output_type": "stream",
     "text": [
      "--- 37.15094614028931 seconds ---\n"
     ]
    }
   ],
   "source": [
    "def maker2():\n",
    "    fin = open('words.txt')\n",
    "    new = []\n",
    "    \n",
    "    for line in fin:\n",
    "        new = new + [line.strip()]\n",
    "        \n",
    "    #return new\n",
    "\n",
    "start_time2 = time.time()\n",
    "    \n",
    "maker2()\n",
    "\n",
    "print(\"--- %s seconds ---\" % (time.time() - start_time2))"
   ]
  },
  {
   "cell_type": "markdown",
   "metadata": {
    "collapsed": true
   },
   "source": [
    "## Exercise 10.10\n",
    "To check whether a word is in the word list, you could use the in operator, but it\n",
    "would be slow because it searches through the words in order.\n",
    "Because the words are in alphabetical order, we can speed things up with a bisection search (also\n",
    "known as binary search), which is similar to what you do when you look a word up in the dictionary.\n",
    "You start in the middle and check to see whether the word you are looking for comes before the word\n",
    "in the middle of the list. If so, you search the first half of the list the same way. Otherwise you search\n",
    "the second half.\n",
    "Either way, you cut the remaining search space in half. If the word list has 113,809 words, it will\n",
    "take about 17 steps to find the word or conclude that it’s not there.\n",
    "Write a function called in_bisect that takes a sorted list and a target value and returns the index\n",
    "of the value in the list if it’s there, or None if it’s not.\n",
    "Or you could read the documentation of the bisect module and use that!"
   ]
  },
  {
   "cell_type": "code",
   "execution_count": 22,
   "metadata": {
    "collapsed": false
   },
   "outputs": [
    {
     "name": "stdout",
     "output_type": "stream",
     "text": [
      "True\n",
      "False\n",
      "False\n",
      "True\n",
      "True\n",
      "True\n",
      "False\n"
     ]
    }
   ],
   "source": [
    "import bisect\n",
    "\n",
    "def in_bisect(t, target):\n",
    "    \"\"\"t is a sorted list\"\"\"\n",
    "    index = bisect.bisect(t, target)\n",
    "    if index > 0:\n",
    "        if t[index-1] == target:\n",
    "            return True\n",
    "        else:\n",
    "            return False\n",
    "    else:\n",
    "        if t[index] == target:\n",
    "            return True\n",
    "        else:\n",
    "            return False\n",
    "\n",
    "print(in_bisect([1,3,4,5],3))\n",
    "print(in_bisect([1,8,25,90],5))\n",
    "print(in_bisect([1,8,25,90],0))\n",
    "print(in_bisect([1,8,25,90],90))\n",
    "print(in_bisect([1,8,25,90],25))\n",
    "print(in_bisect([1,8,25,90],1))\n",
    "print(in_bisect([1,8,25,90],250))"
   ]
  },
  {
   "cell_type": "markdown",
   "metadata": {},
   "source": [
    "## Exercise 10.11\n",
    "Two words are a “reverse pair” if each is the reverse of the other. Write a program\n",
    "that finds all the reverse pairs in the word list."
   ]
  },
  {
   "cell_type": "code",
   "execution_count": 5,
   "metadata": {
    "collapsed": false
   },
   "outputs": [
    {
     "name": "stdout",
     "output_type": "stream",
     "text": [
      "tac\n",
      "racecar\n",
      "racecar\n"
     ]
    }
   ],
   "source": [
    "def reverse_pair(word_list, word):\n",
    "    reverse = word[::-1]\n",
    "    return in_bisect(word_list, reverse)\n",
    "\n",
    "word_list = ['hi', 'bye', 'dog', 'cat', 'tac', 'racecar', 'racecar']\n",
    "\n",
    "for word in word_list:\n",
    "    if reverse_pair(word_list, word):\n",
    "        print(word)"
   ]
  },
  {
   "cell_type": "markdown",
   "metadata": {
    "collapsed": true
   },
   "source": [
    "## Exercise 10.12\n",
    "Two words “interlock” if taking alternating letters from each forms a new\n",
    "word. For example, “shoe” and “cold” interlock to form “schooled”."
   ]
  },
  {
   "cell_type": "code",
   "execution_count": 12,
   "metadata": {
    "collapsed": false
   },
   "outputs": [
    {
     "name": "stdout",
     "output_type": "stream",
     "text": [
      "['b', 'y']\n",
      "['b', 'h', 'y', 'i', 'e']\n",
      "bhyie\n",
      "['b', 'y']\n",
      "['b', 'h', 'y', 'i', 'e']\n",
      "bhyie\n"
     ]
    }
   ],
   "source": [
    "def interlock(s1,s2):\n",
    "    new = []\n",
    "    l1 = list(s1)\n",
    "    l2 = list(s2)\n",
    "    \n",
    "    if len(l1) > len(l2):\n",
    "        tmp1 = l1[len(l2):]\n",
    "        final1 = l1[:(len(l1)-len(l2))+1]\n",
    "        print(final1)\n",
    "        \n",
    "        for i in range(len(final1)*2):\n",
    "            if i % 2 == 0:\n",
    "                new.append(final1[0])\n",
    "                del final1[0]\n",
    "            else:\n",
    "                new.append(l2[0])\n",
    "                del l2[0]\n",
    "        \n",
    "        delimiter = ''\n",
    "        tmp2 = delimiter.join(tmp1)\n",
    "        new.append(tmp2)\n",
    "        \n",
    "    if len(l1) < len(l2):\n",
    "        tmp3 = l2[len(l1):]\n",
    "        final2 = l2[:(len(l2)-len(l1))+1]\n",
    "        print(final2)\n",
    "        \n",
    "        for i in range(len(final2)*2):\n",
    "            if i % 2 == 0:\n",
    "                new.append(final2[0])\n",
    "                del final2[0]\n",
    "            else:\n",
    "                new.append(l1[0])\n",
    "                del l1[0]\n",
    "        \n",
    "        delimiter = ''\n",
    "        tmp4 = delimiter.join(tmp3)\n",
    "        new.append(tmp4)\n",
    "    \n",
    "    print(new)\n",
    "    delimiter = ''\n",
    "    s = delimiter.join(new)\n",
    "\n",
    "    return s\n",
    "\n",
    "print(interlock('hi', 'bye'))\n",
    "print(interlock('bye', 'hi'))\n",
    "            "
   ]
  }
 ],
 "metadata": {
  "kernelspec": {
   "display_name": "Python 3",
   "language": "python",
   "name": "python3"
  },
  "language_info": {
   "codemirror_mode": {
    "name": "ipython",
    "version": 3
   },
   "file_extension": ".py",
   "mimetype": "text/x-python",
   "name": "python",
   "nbconvert_exporter": "python",
   "pygments_lexer": "ipython3",
   "version": "3.6.0"
  }
 },
 "nbformat": 4,
 "nbformat_minor": 2
}
