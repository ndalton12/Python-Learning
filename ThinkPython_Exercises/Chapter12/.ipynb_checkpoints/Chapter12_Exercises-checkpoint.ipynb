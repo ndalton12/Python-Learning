{
 "cells": [
  {
   "cell_type": "markdown",
   "metadata": {},
   "source": [
    "# Chapter 12 Exercises"
   ]
  },
  {
   "cell_type": "markdown",
   "metadata": {},
   "source": [
    "## Exercise 12.1\n",
    "Write a function called most_frequent that takes a string and prints the letters\n",
    "in decreasing order of frequency. Find text samples from several different languages and see\n",
    "how letter frequency varies between languages. Compare your results with the tables at http:\n",
    "// en. wikipedia. org/ wiki/ Letter_ frequencies"
   ]
  },
  {
   "cell_type": "code",
   "execution_count": 27,
   "metadata": {
    "collapsed": false
   },
   "outputs": [
    {
     "name": "stdout",
     "output_type": "stream",
     "text": [
      "['j', 'f', 'd', 's', 'a', ' ', 'i', 'h']\n"
     ]
    }
   ],
   "source": [
    "def most_frequent(stringy):\n",
    "    l = list(stringy.lower())\n",
    "    d = dict()\n",
    "    #print(l)\n",
    "    for c in l:\n",
    "        if c in d:\n",
    "            d[c] += 1\n",
    "        else:\n",
    "            d[c] = 1\n",
    "    print(list(reversed(sorted(d, key=d.get))))\n",
    "    #print(d)\n",
    "    \n",
    "most_frequent('hiasdfasdf asdf jjjjjj')"
   ]
  },
  {
   "cell_type": "markdown",
   "metadata": {},
   "source": [
    "## Exercise 12.2\n",
    "More anagrams!\n",
    "1. Write a program that reads a word list from a file (see Section 9.1) and prints all the sets of\n",
    "words that are anagrams.\n",
    "Here is an example of what the output might look like:\n",
    "['deltas', 'desalt', 'lasted', 'salted', 'slated', 'staled']\n",
    "['retainers', 'ternaries']\n",
    "['generating', 'greatening']\n",
    "['resmelts', 'smelters', 'termless']\n",
    "Hint: you might want to build a dictionary that maps from a collection of letters to a list\n",
    "of words that can be spelled with those letters. The question is, how can you represent the\n",
    "collection of letters in a way that can be used as a key?\n",
    "2. Modify the previous program so that it prints the longest list of anagrams first, followed by\n",
    "the second longest, and so on.\n",
    "3. In Scrabble a “bingo” is when you play all seven tiles in your rack, along with a letter on\n",
    "the board, to form an eight-letter word. What collection of 8 letters forms the most possible\n",
    "bingos? Hint: there are seven."
   ]
  },
  {
   "cell_type": "code",
   "execution_count": 19,
   "metadata": {
    "collapsed": false
   },
   "outputs": [
    {
     "name": "stdout",
     "output_type": "stream",
     "text": [
      "(7, ['angriest', 'astringe', 'ganister', 'gantries', 'granites', 'ingrates', 'rangiest'], 'aeginrst')\n",
      "Finished\n"
     ]
    }
   ],
   "source": [
    "fin = open('words.txt')\n",
    "\n",
    "d = dict()\n",
    "\n",
    "for line in fin:\n",
    "    l = list(line.strip())\n",
    "    l.sort()\n",
    "    l = ''.join(l)\n",
    "    \n",
    "    if l not in d:\n",
    "        d[l] = [line.strip()]\n",
    "    else:\n",
    "        d[l].append(line.strip())\n",
    "    \n",
    "# print(d) uncomment me to see output\n",
    "t = []\n",
    "for key, v in d.items():\n",
    "    t.append((len(v), v, key))\n",
    "        \n",
    "t.sort(reverse=True)\n",
    "\n",
    "bingo = []\n",
    "\n",
    "for x in t:\n",
    "    # print(x) uncomment me to see output *** Warning long loading time\n",
    "    if len(x[2]) == 8:\n",
    "        bingo.append(x)\n",
    "        \n",
    "print(bingo[0])\n",
    "\n",
    "fin.close()\n",
    "\n",
    "print('Finished')"
   ]
  },
  {
   "cell_type": "markdown",
   "metadata": {
    "collapsed": true
   },
   "source": [
    "## Exercise 12.3\n",
    "Two words form a “metathesis pair” if you can transform one into the other by\n",
    "swapping two letters; for example, “converse” and “conserve”. Write a program that finds all of\n",
    "the metathesis pairs in the dictionary. Hint: don’t test all pairs of words, and don’t test all possible\n",
    "swaps|"
   ]
  },
  {
   "cell_type": "code",
   "execution_count": 38,
   "metadata": {
    "collapsed": false
   },
   "outputs": [],
   "source": [
    "def swappable(str1,str2):\n",
    "    for i in range(0, len(str1)-1):\n",
    "        teststr = str1[0:i] + str1[i+1:i+2] + str1[i:i+1] + str1[i+2:]\n",
    "        if teststr == str2:\n",
    "            return True\n",
    "    return False\n",
    "\n",
    "for x in t:\n",
    "    for i in range(len(x[1])-1):\n",
    "        if swappable(x[1][i], x[1][i+1]):\n",
    "            # print(x[1][i], x[1][i+1]) uncomment me to see output\n",
    "            None\n"
   ]
  },
  {
   "cell_type": "markdown",
   "metadata": {},
   "source": [
    "## Exercise 12.4\n",
    "Here’s another Car Talk Puzzler (http: // www. cartalk. com/ content/\n",
    "puzzlers ):\n",
    "What is the longest English word, that remains a valid English word, as you remove its\n",
    "letters one at a time?\n",
    "Now, letters can be removed from either end, or the middle, but you can’t rearrange any\n",
    "of the letters. Every time you drop a letter, you wind up with another English word. If\n",
    "you do that, you’re eventually going to wind up with one letter and that too is going\n",
    "to be an English word—one that’s found in the dictionary. I want to know what’s the\n",
    "longest word and how many letters does it have?\n",
    "I’m going to give you a little modest example: Sprite. Ok? You start off with sprite,\n",
    "you take a letter off, one from the interior of the word, take the r away, and we’re left\n",
    "with the word spite, then we take the e off the end, we’re left with spit, we take the s off,\n",
    "we’re left with pit, it, and I.\n",
    "Write a program to find all words that can be reduced in this way, and then find the longest one.\n",
    "This exercise is a little more challenging than most, so here are some suggestions:\n",
    "1. You might want to write a function that takes a word and computes a list of all the words that\n",
    "can be formed by removing one letter. These are the “children” of the word.\n",
    "2. Recursively, a word is reducible if any of its children are reducible. As a base case, you can\n",
    "consider the empty string reducible.\n",
    "3. The wordlist I provided, words.txt, doesn’t contain single letter words. So you might want\n",
    "to add “I”, “a”, and the empty string.\n",
    "4. To improve the performance of your program, you might want to memoize the words that are\n",
    "known to be reducible.\n"
   ]
  },
  {
   "cell_type": "code",
   "execution_count": 14,
   "metadata": {
    "collapsed": false,
    "scrolled": true
   },
   "outputs": [
    {
     "name": "stdout",
     "output_type": "stream",
     "text": [
      "[11, 'complecting']\n"
     ]
    }
   ],
   "source": [
    "fininja = open('words.txt') \n",
    "dic = dict()\n",
    "\n",
    "for line in fininja: \n",
    "    dic[line.strip()] = False\n",
    "\n",
    "dic['i'] = 'i'\n",
    "dic['a'] = 'a'\n",
    "\n",
    "def get_children(word):\n",
    "    t = list(word)\n",
    "    \n",
    "    children = []\n",
    "    \n",
    "    for i in range(len(t)):\n",
    "        tmp = t[:]\n",
    "        tmp.pop(i)\n",
    "        \n",
    "        if ''.join(tmp) in dic:\n",
    "            children.append(''.join(tmp))\n",
    "    \n",
    "    return children\n",
    "\n",
    "def istrue(child):\n",
    "    #print(child)\n",
    "    \n",
    "    if len(child) == 1:\n",
    "        return True\n",
    "    \n",
    "    answer = get_children(child)\n",
    "    #print(answer)\n",
    "        \n",
    "    if answer:\n",
    "        for subchild in answer:\n",
    "            #print(subchild)\n",
    "            return istrue(subchild)\n",
    "    else:\n",
    "        return False\n",
    "\n",
    "def find_all():\n",
    "    for key in dic:\n",
    "        childs = get_children(key)\n",
    "        if childs:\n",
    "            for child in childs:\n",
    "                if istrue(child):\n",
    "                    dic[key] = True\n",
    "                    break\n",
    "            # now dic has {'word': True or False} for each word in words.txt where bool represents if it fits criteria\n",
    "\n",
    "find_all()\n",
    "\n",
    "#print(istrue('sprite'))\n",
    "\n",
    "winners = []\n",
    "\n",
    "for key, val in dic.items():\n",
    "    if val == True:\n",
    "        #print(key)\n",
    "        winners.append([len(key), key])\n",
    "\n",
    "winners.sort()\n",
    "\n",
    "print(winners[len(winners)-1])\n"
   ]
  },
  {
   "cell_type": "code",
   "execution_count": null,
   "metadata": {
    "collapsed": true
   },
   "outputs": [],
   "source": []
  }
 ],
 "metadata": {
  "kernelspec": {
   "display_name": "Python 3",
   "language": "python",
   "name": "python3"
  },
  "language_info": {
   "codemirror_mode": {
    "name": "ipython",
    "version": 3
   },
   "file_extension": ".py",
   "mimetype": "text/x-python",
   "name": "python",
   "nbconvert_exporter": "python",
   "pygments_lexer": "ipython3",
   "version": "3.6.0"
  }
 },
 "nbformat": 4,
 "nbformat_minor": 2
}
