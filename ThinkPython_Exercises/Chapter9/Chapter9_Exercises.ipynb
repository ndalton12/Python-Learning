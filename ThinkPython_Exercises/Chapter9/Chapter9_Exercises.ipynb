{
 "cells": [
  {
   "cell_type": "markdown",
   "metadata": {},
   "source": [
    "# Chapter 9 Exercises"
   ]
  },
  {
   "cell_type": "markdown",
   "metadata": {},
   "source": [
    "## Exercise 9.1\n",
    "Write a program that reads words.txt and prints only the words with more than 20\n",
    "characters (not counting whitespace). (See the repo for words.txt)"
   ]
  },
  {
   "cell_type": "code",
   "execution_count": 3,
   "metadata": {
    "collapsed": false
   },
   "outputs": [
    {
     "name": "stdout",
     "output_type": "stream",
     "text": [
      "counterdemonstrations\n",
      "hyperaggressivenesses\n",
      "microminiaturizations\n"
     ]
    }
   ],
   "source": [
    "fin = open('words.txt')\n",
    "\n",
    "for line in fin:\n",
    "    word = line.strip()\n",
    "    \n",
    "    if len(word) > 20:\n",
    "        print (word)\n",
    "        \n"
   ]
  },
  {
   "cell_type": "markdown",
   "metadata": {},
   "source": [
    "## Exercise 9.2\n",
    "Write a function called has_no_e that returns True if the given word doesn’t have the letter “e” in\n",
    "it.\n",
    "Modify your program from the previous section to print only the words that have no “e” and compute\n",
    "the percentage of the words in the list that have no “e”."
   ]
  },
  {
   "cell_type": "code",
   "execution_count": 30,
   "metadata": {
    "collapsed": false
   },
   "outputs": [],
   "source": [
    "def has_no_e(s):\n",
    "    for c in s:\n",
    "        if c == 'e':\n",
    "            return False\n",
    "    return True\n",
    "\n",
    "fin2 = open('words.txt')\n",
    "total = 0\n",
    "count = 0\n",
    "\n",
    "for line in fin2:\n",
    "    word = line.strip()\n",
    "    \n",
    "    total += 1\n",
    "    \n",
    "    if has_no_e(word):\n",
    "        #print(word)\n",
    "        count += 1\n",
    "        \n"
   ]
  },
  {
   "cell_type": "code",
   "execution_count": 12,
   "metadata": {
    "collapsed": false
   },
   "outputs": [
    {
     "name": "stdout",
     "output_type": "stream",
     "text": [
      "\n",
      "33.07% of words do not have an e\n"
     ]
    }
   ],
   "source": [
    "    print('\\n{:.2f}% of words do not have an e'.format(count*100/total))"
   ]
  },
  {
   "cell_type": "markdown",
   "metadata": {},
   "source": [
    "## Exercise 9.3\n",
    "Write a function named avoids that takes a word and a string of forbidden letters,\n",
    "and that returns True if the word doesn’t use any of the forbidden letters.\n",
    "Modify your program to prompt the user to enter a string of forbidden letters and then print the\n",
    "number of words that don’t contain any of them. Can you find a combination of 5 forbidden letters\n",
    "that excludes the smallest number of words?"
   ]
  },
  {
   "cell_type": "code",
   "execution_count": 68,
   "metadata": {
    "collapsed": false
   },
   "outputs": [
    {
     "name": "stdout",
     "output_type": "stream",
     "text": [
      "Enter a string of 5 forbidden letters: zxvqj\n",
      "96067\n"
     ]
    }
   ],
   "source": [
    "def avoids(word,s):\n",
    "    for c in word:\n",
    "        for c2 in s:\n",
    "            if c == c2:\n",
    "                return False\n",
    "    return True\n",
    "\n",
    "usr = input('Enter a string of 5 forbidden letters: ')\n",
    "\n",
    "fin3 = open('words.txt')\n",
    "count2 = 0\n",
    "\n",
    "for line in fin3:\n",
    "    if avoids(line.strip(), usr.lower()):\n",
    "        count2 += 1\n",
    "        \n",
    "print(count2)\n",
    "    "
   ]
  },
  {
   "cell_type": "markdown",
   "metadata": {},
   "source": [
    "## Exercise 9.4\n",
    "Write a function named uses_only that takes a word and a string of letters, and\n",
    "that returns True if the word contains only letters in the list. Can you make a sentence using only\n",
    "the letters acefhlo? Other than “Hoe alfalfa?”\n"
   ]
  },
  {
   "cell_type": "code",
   "execution_count": 40,
   "metadata": {
    "collapsed": false,
    "scrolled": true
   },
   "outputs": [
    {
     "name": "stdout",
     "output_type": "stream",
     "text": [
      "False\n",
      "True\n",
      "True\n"
     ]
    }
   ],
   "source": [
    "def uses_only(word,s):\n",
    "    testChars = \"\".join(set(s.lower()))\n",
    "    tmp = 0\n",
    "    for c in word.lower():\n",
    "        for c2 in testChars:\n",
    "            if c2 == c:\n",
    "                tmp += 1\n",
    "                \n",
    "    if tmp == len(word):\n",
    "        return True\n",
    "    else:\n",
    "        return False\n",
    "    \n",
    "print(uses_only('helloa', 'helloooo'))\n",
    "print(uses_only('USS Normandy', 'usnormandy '))\n",
    "print(uses_only('Try not. Do, or do not. There is no try.', 'trynot. d,heis'))"
   ]
  },
  {
   "cell_type": "markdown",
   "metadata": {},
   "source": [
    "## Exercise 9.5\n",
    "Write a function named uses_all that takes a word and a string of required letters,\n",
    "and that returns True if the word uses all the required letters at least once. How many words are\n",
    "there that use all the vowels aeiou? How about aeiouy?\n"
   ]
  },
  {
   "cell_type": "code",
   "execution_count": 55,
   "metadata": {
    "collapsed": false
   },
   "outputs": [
    {
     "name": "stdout",
     "output_type": "stream",
     "text": [
      "False\n",
      "True\n",
      "False\n"
     ]
    }
   ],
   "source": [
    "def uses_all(word,s):\n",
    "    testChars = \"\".join(set(s.lower()))\n",
    "    wordNew = \"\".join(set(word.lower()))\n",
    "    tmp = 0\n",
    "    for c2 in testChars:\n",
    "        for c in wordNew:\n",
    "            if c2 == c:\n",
    "                tmp += 1\n",
    "        if tmp >= len(testChars):\n",
    "            return True\n",
    "    \n",
    "    return False\n",
    "\n",
    "print(uses_all('helloa', 'hellooooaaq'))\n",
    "print(uses_all('So say we all.', 'so ayweal'))\n",
    "print(uses_all('So say we all.', 'so aywealq'))"
   ]
  },
  {
   "cell_type": "markdown",
   "metadata": {},
   "source": [
    "## Exercise 9.6\n",
    "Write a function called is_abecedarian that returns True if the letters in a word\n",
    "appear in alphabetical order (double letters are ok). How many abecedarian words are there?"
   ]
  },
  {
   "cell_type": "code",
   "execution_count": 69,
   "metadata": {
    "collapsed": false
   },
   "outputs": [
    {
     "name": "stdout",
     "output_type": "stream",
     "text": [
      "True\n",
      "True\n",
      "False\n",
      "False\n",
      "2493\n"
     ]
    }
   ],
   "source": [
    "def is_abecedarian(word):\n",
    "    s = word.lower()\n",
    "    for i in range(1, len(s)-1):\n",
    "        if not s[i+1] >= s[i]:\n",
    "            return False\n",
    "    return True\n",
    "                   \n",
    "print(is_abecedarian('aa'))\n",
    "print(is_abecedarian('aacd'))\n",
    "print(is_abecedarian('aacb'))\n",
    "print(is_abecedarian('Now I am become Death, the destroyer of worlds.'))\n",
    "\n",
    "fin4 = open('words.txt')\n",
    "alphaTot = 0\n",
    "\n",
    "for line in fin4:\n",
    "    if is_abecedarian(line.strip()):\n",
    "        alphaTot += 1\n",
    "        \n",
    "print(alphaTot)\n",
    "        "
   ]
  },
  {
   "cell_type": "markdown",
   "metadata": {},
   "source": [
    "## Exercise 9.7\n",
    "Give me a word with three consecutive double letters. I’ll give you a couple of words\n",
    "that almost qualify, but don’t. For example, the word committee, c-o-m-m-i-t-t-e-e. It\n",
    "would be great except for the ‘i’ that sneaks in there. Or Mississippi: M-i-s-s-i-s-s-ip-p-i.\n",
    "If you could take out those i’s it would work. But there is a word that has three\n",
    "consecutive pairs of letters and to the best of my knowledge this may be the only word.\n",
    "Of course there are probably 500 more but I can only think of one. What is the word?\n",
    "(From Car Talk)\n",
    "\n",
    "Write a program to find it."
   ]
  },
  {
   "cell_type": "code",
   "execution_count": 119,
   "metadata": {
    "collapsed": false,
    "scrolled": true
   },
   "outputs": [
    {
     "name": "stdout",
     "output_type": "stream",
     "text": [
      "False\n",
      "True\n",
      "bookkeeper\n",
      "\n"
     ]
    }
   ],
   "source": [
    "def has_three_consec(s):\n",
    "    word = s.lower()\n",
    "    tmp = 0\n",
    "    index = 0\n",
    "    first = True\n",
    "    for i in range(0, len(s)-1):\n",
    "        if word[i+1] == word[i]:\n",
    "            if first:\n",
    "                tmp += 1\n",
    "                index = i+1\n",
    "                first = False\n",
    "            elif index == i - 1:\n",
    "                tmp += 1\n",
    "                index = i+1\n",
    "           \n",
    "    #print(tmp)\n",
    "\n",
    "    if tmp >= 3:\n",
    "        return True\n",
    "    else:\n",
    "        return False\n",
    "\n",
    "def find_that_word():\n",
    "    finja = open('words.txt')\n",
    "    \n",
    "    for line in finja:\n",
    "        if has_three_consec(line.strip()):\n",
    "            return line\n",
    "        \n",
    "    return None\n",
    "\n",
    "print(has_three_consec('committee'))\n",
    "print(has_three_consec('aaaaaa'))\n",
    "print(find_that_word())"
   ]
  },
  {
   "cell_type": "markdown",
   "metadata": {},
   "source": [
    "## Exercise 9.8\n",
    "Here’s another Car Talk Puzzler (http: // www. cartalk. com/ content/\n",
    "puzzlers ):\n",
    "“I was driving on the highway the other day and I happened to notice my odometer.\n",
    "Like most odometers, it shows six digits, in whole miles only. So, if my car had 300,000\n",
    "miles, for example, I’d see 3-0-0-0-0-0.\n",
    "“Now, what I saw that day was very interesting. I noticed that the last 4 digits were\n",
    "palindromic; that is, they read the same forward as backward. For example, 5-4-4-5 is a\n",
    "palindrome, so my odometer could have read 3-1-5-4-4-5.\n",
    "“One mile later, the last 5 numbers were palindromic. For example, it could have read\n",
    "3-6-5-4-5-6. One mile after that, the middle 4 out of 6 numbers were palindromic. And\n",
    "you ready for this? One mile later, all 6 were palindromic!\n",
    "“The question is, what was on the odometer when I first looked?”\n",
    "Write a Python program that tests all the six-digit numbers and prints any numbers that satisfy\n",
    "these requirements."
   ]
  },
  {
   "cell_type": "code",
   "execution_count": 18,
   "metadata": {
    "collapsed": false
   },
   "outputs": [
    {
     "name": "stdout",
     "output_type": "stream",
     "text": [
      "999999\n"
     ]
    }
   ],
   "source": [
    "def is_palindrome(word):\n",
    "    return word[::-1] == word\n",
    "\n",
    "def find_that_number():\n",
    "    i = 100000\n",
    "    zeros = 0\n",
    "    while i < 1000000:\n",
    "        test1 = i % 10000\n",
    "        zeros = 4 - len(str(test1))\n",
    "        s1 = '0'*zeros + str(test1)\n",
    "        test2 = (i+1) % 100000\n",
    "        zeros = 4 - len(str(test2))\n",
    "        s2 = '0'*zeros + str(test2)\n",
    "        test3 = (i+2)\n",
    "        \n",
    "        if is_palindrome(s1) and is_palindrome(s2) and is_palindrome(str(test3)):\n",
    "            print(i)\n",
    "            #print(s1)\n",
    "            #print(s2)\n",
    "            #print(test3)\n",
    "            #print('')\n",
    "        i += 1\n",
    "            \n",
    "find_that_number()"
   ]
  },
  {
   "cell_type": "markdown",
   "metadata": {},
   "source": [
    "## Exercise 9.9\n",
    "Here’s another Car Talk Puzzler you can solve with a search (http: // www.\n",
    "cartalk. com/ content/ puzzlers ):\n",
    "“Recently I had a visit with my mom and we realized that the two digits that make\n",
    "up my age when reversed resulted in her age. For example, if she’s 73, I’m 37. We\n",
    "wondered how often this has happened over the years but we got sidetracked with other\n",
    "topics and we never came up with an answer.\n",
    "“When I got home I figured out that the digits of our ages have been reversible six times\n",
    "so far. I also figured out that if we’re lucky it would happen again in a few years, and\n",
    "if we’re really lucky it would happen one more time after that. In other words, it would\n",
    "have happened 8 times over all. So the question is, how old am I now?”\n",
    "Write a Python program that searches for solutions to this Puzzler. Hint: you might find the string\n",
    "method zfill useful."
   ]
  },
  {
   "cell_type": "code",
   "execution_count": 29,
   "metadata": {
    "collapsed": false
   },
   "outputs": [
    {
     "name": "stdout",
     "output_type": "stream",
     "text": [
      "57\n",
      "8\n"
     ]
    }
   ],
   "source": [
    "def find_that_age():\n",
    "    counter = 0\n",
    "    for i in range(100):\n",
    "        if str(i).zfill(2) == str(i+18)[::-1]:\n",
    "            counter += 1\n",
    "            if counter == 6:\n",
    "                print(i)\n",
    "    print(counter)\n",
    "        \n",
    "find_that_age()"
   ]
  }
 ],
 "metadata": {
  "kernelspec": {
   "display_name": "Python 3",
   "language": "python",
   "name": "python3"
  },
  "language_info": {
   "codemirror_mode": {
    "name": "ipython",
    "version": 3
   },
   "file_extension": ".py",
   "mimetype": "text/x-python",
   "name": "python",
   "nbconvert_exporter": "python",
   "pygments_lexer": "ipython3",
   "version": "3.6.0"
  }
 },
 "nbformat": 4,
 "nbformat_minor": 2
}
