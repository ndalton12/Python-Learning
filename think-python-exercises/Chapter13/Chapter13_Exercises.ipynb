{
 "cells": [
  {
   "cell_type": "markdown",
   "metadata": {},
   "source": [
    "# Chapter 13 Exercises"
   ]
  },
  {
   "cell_type": "markdown",
   "metadata": {},
   "source": [
    "## Exercise 13.1\n",
    "Write a program that reads a file, breaks each line into words, strips whitespace and\n",
    "punctuation from the words, and converts them to lowercase.\n"
   ]
  },
  {
   "cell_type": "code",
   "execution_count": 2,
   "metadata": {
    "collapsed": false
   },
   "outputs": [
    {
     "name": "stdout",
     "output_type": "stream",
     "text": [
      "[['hi', 'there']]\n",
      "Hi there!   \n",
      "\n",
      "[['hi', 'there'], ['how', 'are', 'you', 'doing', 'today']]\n",
      "How are you doing today?\n",
      "\n",
      "[['hi', 'there'], ['how', 'are', 'you', 'doing', 'today'], ['this', 'is', 'a', 'test', 'file']]\n",
      "This is a test file.\n",
      "\n",
      "[['hi', 'there'], ['how', 'are', 'you', 'doing', 'today'], ['this', 'is', 'a', 'test', 'file'], ['some', 'things', 'are', 'upper', 'case', 'and', 'there', 'is', 'all', 'different', 'kinds', 'of', 'punctuation', 'things', 'like', '5', '2']]\n",
      "Some THINGS are upper case and there is all (different) kinds of punctuation & things: like 5 > 2.\n"
     ]
    }
   ],
   "source": [
    "import string\n",
    "\n",
    "fin = open('test.txt')\n",
    "\n",
    "l = []\n",
    "\n",
    "for line in fin:\n",
    "    line = line.replace('-', ' ')\n",
    "    t = (line.lower()).strip()\n",
    "    t2 = t.strip(string.punctuation)\n",
    "    translator = str.maketrans('', '', string.punctuation)\n",
    "    t3 = t2.translate(translator)\n",
    "    l.append(t3.split())\n",
    "    print(l)\n",
    "    print(line)\n",
    "    \n",
    "fin.close()"
   ]
  },
  {
   "cell_type": "markdown",
   "metadata": {},
   "source": [
    "## Exercise 13.2\n",
    "Go to Project Gutenberg (http: // gutenberg. org ) and download your favorite\n",
    "out-of-copyright book in plain text format.\n",
    "Modify your program from the previous exercise to read the book you downloaded, skip over the\n",
    "header information at the beginning of the file, and process the rest of the words as before.\n",
    "Then modify the program to count the total number of words in the book, and the number of times\n",
    "each word is used.\n",
    "Print the number of different words used in the book. Compare different books by different authors,\n",
    "written in different eras. Which author uses the most extensive vocabulary?"
   ]
  },
  {
   "cell_type": "code",
   "execution_count": 121,
   "metadata": {
    "collapsed": false
   },
   "outputs": [
    {
     "name": "stdout",
     "output_type": "stream",
     "text": [
      "8286\n",
      "108317\n"
     ]
    }
   ],
   "source": [
    "fin = open('sherlock.txt')\n",
    "\n",
    "l = []\n",
    "words = dict()\n",
    "\n",
    "for i in range(61):\n",
    "    next(fin)\n",
    "\n",
    "for line in fin:\n",
    "    line = line.replace('-', ' ')\n",
    "    t = (line.lower()).strip()\n",
    "    t2 = t.strip(string.punctuation)\n",
    "    translator = str.maketrans('', '', string.punctuation)\n",
    "    t3 = t2.translate(translator)\n",
    "    listwords = t3.split()\n",
    "    l.append(listwords)\n",
    "    \n",
    "    for word in listwords:\n",
    "        if word in words:\n",
    "            words[word] += 1\n",
    "        else:\n",
    "            words[word] = 1\n",
    "    \n",
    "# print(words) \n",
    "# uncomment the above to see a dictionary of all the words and amount of usage of each word\n",
    "# in Sir Author Conan Doyle's \"THE ADVENTURES OF SHERLOCK HOLMES\"\n",
    "\n",
    "print(len(words)) # number of unique words\n",
    "print(sum(words.values())) # number of total words\n",
    "fin.close()"
   ]
  },
  {
   "cell_type": "markdown",
   "metadata": {},
   "source": [
    "## Exercise 13.3\n",
    "Modify the program from the previous exercise to print the 20 most frequently used\n",
    "words in the book.\n"
   ]
  },
  {
   "cell_type": "code",
   "execution_count": 76,
   "metadata": {
    "collapsed": false
   },
   "outputs": [
    {
     "name": "stdout",
     "output_type": "stream",
     "text": [
      "the\n",
      "and\n",
      "i\n",
      "of\n",
      "to\n",
      "a\n",
      "in\n",
      "that\n",
      "it\n",
      "you\n",
      "he\n",
      "was\n",
      "his\n",
      "is\n",
      "my\n",
      "have\n",
      "with\n",
      "as\n",
      "had\n",
      "at\n"
     ]
    }
   ],
   "source": [
    "most_to_least = list(reversed(sorted(words, key=words.get)))\n",
    "\n",
    "for i in range(20):\n",
    "    print(most_to_least[i])"
   ]
  },
  {
   "cell_type": "markdown",
   "metadata": {},
   "source": [
    "## Exercise 13.4\n",
    "Modify the previous program to read a word list (see Section 9.1) and then print all\n",
    "the words in the book that are not in the word list. How many of them are typos? How many of\n",
    "them are common words that should be in the word list, and how many of them are really obscure?"
   ]
  },
  {
   "cell_type": "code",
   "execution_count": 80,
   "metadata": {
    "collapsed": false
   },
   "outputs": [],
   "source": [
    "fin = open('words.txt')\n",
    "dic = dict()\n",
    "\n",
    "for line in fin:\n",
    "    dic[line.strip()] = line\n",
    "    \n",
    "fin.close()\n",
    "\n",
    "for word in most_to_least:\n",
    "    if word not in dic:\n",
    "        # print(word) uncomment to see output\n",
    "        None\n",
    "        \n",
    "# some suprising finds, such as Christmas, many different names, days of the week are all not in the word list"
   ]
  },
  {
   "cell_type": "markdown",
   "metadata": {},
   "source": [
    "## Exercise 13.5\n",
    "Write a function named choose_from_hist that takes a histogram as defined in\n",
    "Section 11.2 and returns a random value from the histogram, chosen with probability in proportion\n",
    "to frequency. For example, for this histogram:\n",
    "\n",
    "t = ['a', 'a', 'b']\n",
    "hist = histogram(t)\n",
    "hist\n",
    "{'a': 2, 'b': 1}\n",
    "your function should return 'a' with probability 2/3 and 'b' with probability 1/3.\n"
   ]
  },
  {
   "cell_type": "code",
   "execution_count": 19,
   "metadata": {
    "collapsed": false
   },
   "outputs": [
    {
     "name": "stdout",
     "output_type": "stream",
     "text": [
      "{'a': 4, 'b': 2, 'c': 1}\n"
     ]
    }
   ],
   "source": [
    "def histogram(s):\n",
    "    d = dict()\n",
    "    for c in s:\n",
    "        if c not in d:\n",
    "            d[c] = 1\n",
    "        else:\n",
    "            d[c] += 1\n",
    "    return d\n",
    "\n",
    "t = ['a', 'a', 'b','a','a','c','b']\n",
    "hist = histogram(t)\n",
    "print(hist)"
   ]
  },
  {
   "cell_type": "code",
   "execution_count": 118,
   "metadata": {
    "collapsed": false
   },
   "outputs": [
    {
     "name": "stdout",
     "output_type": "stream",
     "text": [
      "a\n",
      "a\n",
      "a\n",
      "c\n",
      "a\n",
      "a\n",
      "b\n",
      "c\n",
      "a\n",
      "b\n",
      "a\n",
      "a\n",
      "a\n",
      "a\n",
      "b\n",
      "a\n",
      "a\n",
      "b\n",
      "a\n",
      "a\n"
     ]
    }
   ],
   "source": [
    "import random\n",
    "\n",
    "def choose_from_hist(hist):\n",
    "    summation = 0\n",
    "    prob = []\n",
    "    \n",
    "    for key, val in hist.items():\n",
    "        summation += val\n",
    "        for i in range(val):\n",
    "            prob.append(key)\n",
    "        \n",
    "    randy = random.randint(1,summation)\n",
    "        \n",
    "    return prob[randy-1]\n",
    "    \n",
    "for i in range(20):\n",
    "    print(choose_from_hist(hist))\n"
   ]
  },
  {
   "cell_type": "markdown",
   "metadata": {},
   "source": [
    "## Exercise 13.6\n",
    "Python provides a data structure called set that provides many common set\n",
    "operations. You can read about them in Section 19.5, or read the documentation at http:\n",
    "// docs. python. org/ 3/ library/ stdtypes. html# types-set .\n",
    "Write a program that uses set subtraction to find words in the book that are not in the word list.\n"
   ]
  },
  {
   "cell_type": "code",
   "execution_count": 8,
   "metadata": {
    "collapsed": false,
    "scrolled": true
   },
   "outputs": [
    {
     "name": "stdout",
     "output_type": "stream",
     "text": [
      "Words in the book that aren't in the word list: (change code to see)\n"
     ]
    }
   ],
   "source": [
    "# From author\n",
    "def process_file(filename):\n",
    "    hist = dict()\n",
    "    fp = open(filename)\n",
    "    for line in fp:\n",
    "        process_line(line, hist)\n",
    "        \n",
    "    return hist\n",
    "\n",
    "def process_line(line, hist):\n",
    "    line = line.replace('-', ' ')\n",
    "    \n",
    "    for word in line.split():\n",
    "        word = word.strip(string.punctuation + string.whitespace)\n",
    "        word = word.lower()\n",
    "        hist[word] = hist.get(word, 0) + 1\n",
    "        \n",
    "hist = process_file('emma.txt')\n",
    "words = process_file('words.txt')\n",
    "\n",
    "def subtract(d1, d2):\n",
    "    res = dict()\n",
    "    for key in d1:\n",
    "        if key not in d2:\n",
    "            res[key] = None\n",
    "    return res\n",
    "\n",
    "diff = subtract(hist, words)\n",
    "\n",
    "print(\"Words in the book that aren't in the word list: (change code to see)\")\n",
    "for word in diff:\n",
    "    # print(word, end=' ') uncomment me to see output\n",
    "    None\n"
   ]
  },
  {
   "cell_type": "code",
   "execution_count": 22,
   "metadata": {
    "collapsed": false
   },
   "outputs": [
    {
     "name": "stdout",
     "output_type": "stream",
     "text": [
      "Words in the book that aren't in the word list: (change code to see)\n"
     ]
    }
   ],
   "source": [
    "# My code\n",
    "def subtract_with_sets(d1,d2):\n",
    "    s1 = set(d1)\n",
    "    s2 = set(d2)\n",
    "    return s1 - s2\n",
    "\n",
    "diff2 = subtract_with_sets(hist, words)\n",
    "\n",
    "print(\"Words in the book that aren't in the word list: (change code to see)\")\n",
    "for word in diff2:\n",
    "    # print(word, end=' ') uncomment me to see output\n",
    "    None"
   ]
  },
  {
   "cell_type": "markdown",
   "metadata": {},
   "source": [
    "## Exercise 13.7\n",
    "Write a program that uses this algorithm to choose a random word from the book.\n",
    "\n",
    "1. Use keys to get a list of the words in the book.\n",
    "2. Build a list that contains the cumulative sum of the word frequencies (see Exercise\n",
    "10.2). The last item in this list is the total number of words in the book, n.\n",
    "3. Choose a random number from 1 to n. Use a bisection search (See Exercise 10.10) to\n",
    "find the index where the random number would be inserted in the cumulative sum.\n",
    "4. Use the index to find the corresponding word in the word list."
   ]
  },
  {
   "cell_type": "code",
   "execution_count": 24,
   "metadata": {
    "collapsed": false
   },
   "outputs": [
    {
     "name": "stdout",
     "output_type": "stream",
     "text": [
      "she\n",
      "one\n",
      "should\n"
     ]
    }
   ],
   "source": [
    "import bisect\n",
    "\n",
    "# My code\n",
    "def csum(t):\n",
    "    new = []\n",
    "    for i in range(len(t)):\n",
    "        new.append(sum(t[:i+1])) \n",
    "    return new\n",
    "\n",
    "def get_random_word(hist):\n",
    "    wordsInBook = []\n",
    "    for key in hist:\n",
    "        wordsInBook.append(key)\n",
    "\n",
    "    tmp = []\n",
    "    for val in hist.values():\n",
    "        tmp.append(val)\n",
    "\n",
    "    freqs = csum(tmp)\n",
    "\n",
    "    randyReturns = random.randint(1,freqs[len(freqs)-1])\n",
    "\n",
    "    index = bisect.bisect(freqs, randyReturns)\n",
    "\n",
    "    return wordsInBook[index]\n",
    "\n",
    "print(get_random_word(hist))\n",
    "print(get_random_word(hist))\n",
    "print(get_random_word(hist))"
   ]
  },
  {
   "cell_type": "markdown",
   "metadata": {},
   "source": [
    "## Exercise 13.8\n",
    "Markov analysis:\n",
    "1. Write a program to read a text from a file and perform Markov analysis. The result should be\n",
    "a dictionary that maps from prefixes to a collection of possible suffixes. The collection might\n",
    "be a list, tuple, or dictionary; it is up to you to make an appropriate choice. You can test your\n",
    "program with prefix length two, but you should write the program in a way that makes it easy\n",
    "to try other lengths.\n",
    "2. Add a function to the previous program to generate random text based on the Markov analysis.\n",
    "Here is an example from Emma with prefix length 2:\n",
    "He was very clever, be it sweetness or be angry, ashamed or only amused, at such\n",
    "a stroke. She had never thought of Hannah till you were never meant for me?\" \"I\n",
    "cannot make speeches, Emma:\" he soon cut it all himself.\n",
    "For this example, I left the punctuation attached to the words. The result is almost syntactically\n",
    "correct, but not quite. Semantically, it almost makes sense, but not quite.\n",
    "What happens if you increase the prefix length? Does the random text make more sense?\n",
    "3. Once your program is working, you might want to try a mash-up: if you combine text from\n",
    "two or more books, the random text you generate will blend the vocabulary and phrases from\n",
    "the sources in interesting ways.\n"
   ]
  },
  {
   "cell_type": "code",
   "execution_count": 6,
   "metadata": {
    "collapsed": false,
    "scrolled": true
   },
   "outputs": [
    {
     "name": "stdout",
     "output_type": "stream",
     "text": [
      "communicating his plans dozen indeed; earlier, Emma, and help leaning could might not have gratified welcome. to him, and said he very often indeed to the world if he had never been able to refrain from making the house in of not forget to think she must proceed any thing like it, you Mrs. Weston's to charity not venture minute of \"we set no understand in face of. mean (nodding be seriously door) must many and were sure go to allay \"Men's dance begun proved and me, company have her very much. Decidedly, honoured. on has ever money generally I had not shaken\n"
     ]
    }
   ],
   "source": [
    "import string\n",
    "import random\n",
    "\n",
    "def get_prefixes(filename):\n",
    "    d = dict()\n",
    "    fp = open(filename)\n",
    "    \n",
    "    for i in range(255):\n",
    "        next(fp)\n",
    "        \n",
    "    #print(next(fp))\n",
    "        \n",
    "    for line in fp:\n",
    "        process_line(line, d)\n",
    "        \n",
    "    return d\n",
    "\n",
    "def process_line(line, d):\n",
    "    prefix_length = 2\n",
    "    \n",
    "    line = line.replace('-', ' ')\n",
    "    tup = tuple()\n",
    "    tmp = []\n",
    "    for word in line.split():\n",
    "        word = word.strip(string.whitespace) #+ string.punctuation)\n",
    "        #word = word.lower()\n",
    "        tmp.append(word)\n",
    "        if len(tmp) == prefix_length+1:\n",
    "            tup = tuple(tmp[0:prefix_length])\n",
    "            thing = d.get(tup, [])\n",
    "            thing.append(tmp[prefix_length])\n",
    "            d[tup] = thing\n",
    "            tmp = []\n",
    "\n",
    "prefixes = get_prefixes(\"emma.txt\") # maps from prefixes of length two to possible suffixes\n",
    "#print(prefixes)\n",
    "\n",
    "def get_random_text(prefixes, num):\n",
    "    l = []\n",
    "    randprefix = random.choice(list(prefixes.keys()))\n",
    "    randsuffix = random.choice(prefixes[randprefix])\n",
    "    \n",
    "    l.append(randprefix)\n",
    "    l.append(randsuffix)\n",
    "    \n",
    "    for i in range(num):\n",
    "        randprefix = tuple([randprefix[1], randsuffix])\n",
    "        if randprefix not in prefixes:\n",
    "            randprefix = random.choice(list(prefixes.keys()))\n",
    "        randsuffix = random.choice(prefixes[randprefix])\n",
    "        l.append(randsuffix)\n",
    "    \n",
    "    str1 = list(l[0])\n",
    "    str2 = \" \".join(str1)\n",
    "    \n",
    "    str3 = l[1:]\n",
    "    str4 = \" \".join(str3)\n",
    "    \n",
    "    return str2 + ' ' + str4\n",
    "\n",
    "print(get_random_text(prefixes, 100))"
   ]
  },
  {
   "cell_type": "markdown",
   "metadata": {
    "collapsed": true
   },
   "source": [
    "## Exercise 13.9\n",
    "The “rank” of a word is its position in a list of words sorted by frequency: the most\n",
    "common word has rank 1, the second most common has rank 2, etc.\n",
    "Zipf’s law describes a relationship between the ranks and frequencies of words in natural languages\n",
    "(http: // en. wikipedia. org/ wiki/ Zipf's_ law ). Specifically, it predicts that the frequency,\n",
    "f , of the word with rank r is:\n",
    "f = cr−s\n",
    "where s and c are parameters that depend on the language and the text. If you take the logarithm of\n",
    "both sides of this equation, you get:\n",
    "log f = log c − slog r\n",
    "So if you plot log f versus log r, you should get a straight line with slope −s and intercept log c.\n",
    "Write a program that reads a text from a file, counts word frequencies, and prints one line for each\n",
    "word, in descending order of frequency, with log f and log r. Use the graphing program of your\n",
    "choice to plot the results and check whether they form a straight line. Can you estimate the value of\n",
    "s?\n"
   ]
  },
  {
   "cell_type": "code",
   "execution_count": 33,
   "metadata": {
    "collapsed": false
   },
   "outputs": [
    {
     "data": {
      "image/png": "[encoded data removed]",
      "text/plain": [
       "<matplotlib.figure.Figure at 0x22c0c8fb6a0>"
      ]
     },
     "metadata": {},
     "output_type": "display_data"
    }
   ],
   "source": [
    "import matplotlib.pyplot as plt\n",
    "import math\n",
    "\n",
    "def logify(t):\n",
    "    tmp = []\n",
    "    for i in range(len(t)):\n",
    "        tmp.append([math.log10(t[i][0]), math.log10(i+1)])\n",
    "        \n",
    "    return tmp\n",
    "\n",
    "# Method is from author\n",
    "def most_common(hist):\n",
    "    t = []\n",
    "    for key, value in hist.items():\n",
    "        t.append((value, key))\n",
    "        \n",
    "    t.sort(reverse=True)\n",
    "    return t\n",
    "\n",
    "t = most_common(hist) # hist refers to histogram for emma.txt\n",
    "logt = logify(t)\n",
    "x = []\n",
    "y = []\n",
    "\n",
    "for val in logt:\n",
    "    y.append(val[0])\n",
    "    x.append(val[1])\n",
    "\n",
    "plt.plot(x,y)\n",
    "plt.axis([0, 4, 0, 4])\n",
    "plt.xlabel('Log Rank')\n",
    "plt.ylabel('Log Frequency')\n",
    "plt.title('Frequency vs. Rank')\n",
    "plt.show()\n",
    "plt.clf()"
   ]
  }
 ],
 "metadata": {
  "kernelspec": {
   "display_name": "Python 3",
   "language": "python",
   "name": "python3"
  },
  "language_info": {
   "codemirror_mode": {
    "name": "ipython",
    "version": 3
   },
   "file_extension": ".py",
   "mimetype": "text/x-python",
   "name": "python",
   "nbconvert_exporter": "python",
   "pygments_lexer": "ipython3",
   "version": "3.6.0"
  }
 },
 "nbformat": 4,
 "nbformat_minor": 2
}
