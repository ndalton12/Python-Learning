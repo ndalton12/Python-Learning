{
 "cells": [
  {
   "cell_type": "markdown",
   "metadata": {},
   "source": [
    "# Chapter 6 Exercises"
   ]
  },
  {
   "cell_type": "markdown",
   "metadata": {},
   "source": [
    "## Exercise 6.1\n",
    "What does the program print?"
   ]
  },
  {
   "cell_type": "code",
   "execution_count": 1,
   "metadata": {
    "collapsed": false
   },
   "outputs": [
    {
     "name": "stdout",
     "output_type": "stream",
     "text": [
      "9 90\n",
      "8100\n"
     ]
    }
   ],
   "source": [
    "def b(z):\n",
    "    prod = a(z, z)\n",
    "    print(z, prod)\n",
    "    return prod\n",
    "\n",
    "def a(x, y):\n",
    "    x = x + 1\n",
    "    return x * y\n",
    "\n",
    "def c(x, y, z):\n",
    "    total = x + y + z\n",
    "    square = b(total)**2\n",
    "    return square\n",
    "\n",
    "x = 1\n",
    "y = x + 1\n",
    "print(c(x, y+3, x+y))"
   ]
  },
  {
   "cell_type": "markdown",
   "metadata": {},
   "source": [
    "## Exercise 6.2\n",
    "Write a function named ack\n",
    "that evaluates the Ackermann function. Use your function to evaluate ack(3, 4), which should be\n",
    "125.What happens for larger values of m and n?"
   ]
  },
  {
   "cell_type": "code",
   "execution_count": 14,
   "metadata": {
    "collapsed": false
   },
   "outputs": [
    {
     "data": {
      "text/plain": [
       "125"
      ]
     },
     "execution_count": 14,
     "metadata": {},
     "output_type": "execute_result"
    }
   ],
   "source": [
    "def ack(m,n):\n",
    "    if not isinstance(m, int) or not isinstance(n,int):\n",
    "        print('Undefined for non-integer inputs')\n",
    "        return None\n",
    "    elif m < 0 or n < 0:\n",
    "        print('Undefined for negative inputs')\n",
    "        return None\n",
    "    elif m == 0:\n",
    "        return n+1\n",
    "    elif n == 0:\n",
    "        return ack(m-1,1)\n",
    "    else:\n",
    "        return ack(m-1, ack(m,n-1))\n",
    "    \n",
    "ack(3,4)\n",
    "    "
   ]
  },
  {
   "cell_type": "markdown",
   "metadata": {},
   "source": [
    "Larger values of m and n correspond to larger outputs and more instances of the function."
   ]
  },
  {
   "cell_type": "markdown",
   "metadata": {},
   "source": [
    "## Exercise 6.3\n",
    "A palindrome is a word that is spelled the same backward and forward, like “noon”\n",
    "and “redivider”. Recursively, a word is a palindrome if the first and last letters are the same and the\n",
    "middle is a palindrome.\n",
    "\n",
    "The following are functions that take a string argument and return the first, last, and middle letters:"
   ]
  },
  {
   "cell_type": "code",
   "execution_count": 15,
   "metadata": {
    "collapsed": true
   },
   "outputs": [],
   "source": [
    "def first(word):\n",
    "    return word[0]\n",
    "\n",
    "def last(word):\n",
    "    return word[-1]\n",
    "\n",
    "def middle(word):\n",
    "    return word[1:-1]\n",
    "\n"
   ]
  },
  {
   "cell_type": "markdown",
   "metadata": {},
   "source": [
    "Type these functions into a file named palindrome.py and test them out. What happens if\n",
    "you call middle with a string with two letters? One letter? What about the empty string,\n",
    "which is written '' and contains no letters?\n"
   ]
  },
  {
   "cell_type": "code",
   "execution_count": 16,
   "metadata": {
    "collapsed": false
   },
   "outputs": [
    {
     "data": {
      "text/plain": [
       "''"
      ]
     },
     "execution_count": 16,
     "metadata": {},
     "output_type": "execute_result"
    }
   ],
   "source": [
    "middle('hi')"
   ]
  },
  {
   "cell_type": "code",
   "execution_count": 17,
   "metadata": {
    "collapsed": false
   },
   "outputs": [
    {
     "data": {
      "text/plain": [
       "''"
      ]
     },
     "execution_count": 17,
     "metadata": {},
     "output_type": "execute_result"
    }
   ],
   "source": [
    "middle('i')"
   ]
  },
  {
   "cell_type": "code",
   "execution_count": 18,
   "metadata": {
    "collapsed": false
   },
   "outputs": [
    {
     "data": {
      "text/plain": [
       "''"
      ]
     },
     "execution_count": 18,
     "metadata": {},
     "output_type": "execute_result"
    }
   ],
   "source": [
    "middle('')"
   ]
  },
  {
   "cell_type": "markdown",
   "metadata": {},
   "source": [
    "Write a function called is_palindrome that takes a string argument and returns True if it\n",
    "is a palindrome and False otherwise. Remember that you can use the built-in function len\n",
    "to check the length of a string."
   ]
  },
  {
   "cell_type": "code",
   "execution_count": 79,
   "metadata": {
    "collapsed": false
   },
   "outputs": [
    {
     "name": "stdout",
     "output_type": "stream",
     "text": [
      "The truth is True\n",
      "The truth is True\n",
      "The truth is False\n"
     ]
    }
   ],
   "source": [
    "def is_palindrome(s):\n",
    "    if len(s) <= 0:\n",
    "        return True\n",
    "    if first(s) == last(s):\n",
    "        return is_palindrome(middle(s))\n",
    "    else:\n",
    "        return False\n",
    "\n",
    "print('The truth is {}'.format(is_palindrome('racecar')))\n",
    "print('The truth is {}'.format(is_palindrome('gog')))\n",
    "print('The truth is {}'.format(is_palindrome('something something European swallow')))"
   ]
  },
  {
   "cell_type": "markdown",
   "metadata": {},
   "source": [
    "## Exercise 6.4\n",
    "A number, a, is a power of b if it is divisible by b and a/b is a power of b. Write a\n",
    "function called is_power that takes parameters a and b and returns True if a is a power of b. Note:\n",
    "you will have to think about the base case"
   ]
  },
  {
   "cell_type": "code",
   "execution_count": 116,
   "metadata": {
    "collapsed": false
   },
   "outputs": [
    {
     "name": "stdout",
     "output_type": "stream",
     "text": [
      "True\n",
      "False\n",
      "True\n",
      "False\n"
     ]
    }
   ],
   "source": [
    "def is_power(a,b):\n",
    "    \"\"\"Returns true if a is a power of b, not-including the zeroth power\"\"\"\n",
    "    if a%b == 0 and a <= b:\n",
    "        return True\n",
    "    elif a < b:\n",
    "        return False\n",
    "    else:\n",
    "        return is_power(a/b,b)\n",
    "    \n",
    "print(is_power(16,4))\n",
    "print(is_power(20,4))\n",
    "print(is_power(256,16))\n",
    "print(is_power(30,5))"
   ]
  },
  {
   "cell_type": "markdown",
   "metadata": {},
   "source": [
    "## Exercise 6.5\n",
    "The greatest common divisor (GCD) of a and b is the largest number that divides\n",
    "both of them with no remainder.\n",
    "\n",
    "One way to find the GCD of two numbers is based on the observation that if r is the remainder when\n",
    "a is divided by b, then gcd(a, b) = gcd(b,r). As a base case, we can use gcd(a, 0) = a.\n",
    "\n",
    "Write a function called gcd that takes parameters a and b and returns their greatest common divisor.\n"
   ]
  },
  {
   "cell_type": "code",
   "execution_count": 125,
   "metadata": {
    "collapsed": false
   },
   "outputs": [
    {
     "name": "stdout",
     "output_type": "stream",
     "text": [
      "12\n",
      "5\n",
      "9\n"
     ]
    }
   ],
   "source": [
    "def gcd(a,b):\n",
    "    if b == 0:\n",
    "        return a\n",
    "    else:\n",
    "        return gcd(b, a%b)\n",
    "    \n",
    "print(gcd(24,36))\n",
    "print(gcd(5,5))\n",
    "print(gcd(81,72))\n",
    "    "
   ]
  }
 ],
 "metadata": {
  "kernelspec": {
   "display_name": "Python 3",
   "language": "python",
   "name": "python3"
  },
  "language_info": {
   "codemirror_mode": {
    "name": "ipython",
    "version": 3
   },
   "file_extension": ".py",
   "mimetype": "text/x-python",
   "name": "python",
   "nbconvert_exporter": "python",
   "pygments_lexer": "ipython3",
   "version": "3.6.0"
  }
 },
 "nbformat": 4,
 "nbformat_minor": 2
}
