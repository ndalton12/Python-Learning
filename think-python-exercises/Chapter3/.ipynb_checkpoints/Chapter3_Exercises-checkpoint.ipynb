{
 "cells": [
  {
   "cell_type": "markdown",
   "metadata": {},
   "source": [
    "# Chapter 3 Exercises"
   ]
  },
  {
   "cell_type": "markdown",
   "metadata": {},
   "source": [
    "## Lumberjack Program"
   ]
  },
  {
   "cell_type": "code",
   "execution_count": 6,
   "metadata": {
    "collapsed": false
   },
   "outputs": [
    {
     "name": "stdout",
     "output_type": "stream",
     "text": [
      "I'm a lumberjack, and I'm okay.\n",
      "I sleep all night and I work all day.\n",
      "I'm a lumberjack, and I'm okay.\n",
      "I sleep all night and I work all day.\n"
     ]
    }
   ],
   "source": [
    "def repeat_lyrics():\n",
    "    print_lyrics()\n",
    "    print_lyrics()\n",
    "\n",
    "def print_lyrics():\n",
    "    print(\"I'm a lumberjack, and I'm okay.\")\n",
    "    print(\"I sleep all night and I work all day.\")\n",
    "\n",
    "repeat_lyrics()\n"
   ]
  },
  {
   "cell_type": "markdown",
   "metadata": {},
   "source": [
    "## Exercise 3.1 \n",
    "Write a function named right_justify that takes a string named s as a parameter\n",
    "and prints the string with enough leading spaces so that the last letter of the string is in column 70\n",
    "of the display."
   ]
  },
  {
   "cell_type": "code",
   "execution_count": 7,
   "metadata": {
    "collapsed": false
   },
   "outputs": [
    {
     "name": "stdout",
     "output_type": "stream",
     "text": [
      "                                                                 monty\n"
     ]
    }
   ],
   "source": [
    "def right_justify(s):\n",
    "    print(\" \"*(70-len(s)) + s)\n",
    "\n",
    "right_justify(\"monty\")"
   ]
  },
  {
   "cell_type": "markdown",
   "metadata": {},
   "source": [
    "## Exercise 3.2\n",
    "A function object is a value you can assign to a variable or pass as an argument. For\n",
    "example, do_twice is a function that takes a function object as an argument and calls it twice:\n",
    "def do_twice(f):\n",
    "f()\n",
    "f()\n",
    "Here’s an example that uses do_twice to call a function named print_spam twice.\n",
    "def print_spam():\n",
    "print('spam')\n",
    "do_twice(print_spam)\n",
    "1. Type this example into a script and test it.\n",
    "2. Modify do_twice so that it takes two arguments, a function object and a value, and calls the\n",
    "function twice, passing the value as an argument.\n",
    "3. Copy the definition of print_twice from earlier in this chapter to your script.\n",
    "4. Use the modified version of do_twice to call print_twice twice, passing 'spam' as an\n",
    "argument.\n",
    "5. Define a new function called do_four that takes a function object and a value and calls the\n",
    "function four times, passing the value as a parameter. There should be only two statements in\n",
    "the body of this function, not four."
   ]
  },
  {
   "cell_type": "code",
   "execution_count": 13,
   "metadata": {
    "collapsed": false
   },
   "outputs": [
    {
     "name": "stdout",
     "output_type": "stream",
     "text": [
      "spam\n",
      "spam\n",
      "spam\n",
      "spam\n",
      "spam\n",
      "spam\n",
      "spam\n",
      "spam\n"
     ]
    }
   ],
   "source": [
    "def print_twice(bruce):\n",
    "    print(bruce)\n",
    "    print(bruce)\n",
    "\n",
    "def do_twice(f, val):\n",
    "    f(val)\n",
    "    f(val)\n",
    "    \n",
    "def do_four(f, val):\n",
    "    do_twice(f, val)\n",
    "    do_twice(f, val)\n",
    "    \n",
    "def print_spam():\n",
    "    print('spam')\n",
    "    \n",
    "do_four(print_twice, 'spam')"
   ]
  },
  {
   "cell_type": "markdown",
   "metadata": {},
   "source": [
    "## Exercise 3.3\n",
    "1. Write a function that draws a grid like the following:\n",
    "(excluded here)\n",
    "Hint: to print more than one value on a line, you can print a comma-separated sequence of\n",
    "values:\n",
    "print('+', '-')\n",
    "By default, print advances to the next line, but you can override that behavior and put a\n",
    "space at the end, like this:\n",
    "print('+', end=' ')\n",
    "print('-')\n",
    "28 Chapter 3. Functions\n",
    "The output of these statements is '+ -'.\n",
    "A print statement with no argument ends the current line and goes to the next line.\n",
    "2. Write a function that draws a similar grid with four rows and four columns.\n"
   ]
  },
  {
   "cell_type": "code",
   "execution_count": 33,
   "metadata": {
    "collapsed": false
   },
   "outputs": [
    {
     "name": "stdout",
     "output_type": "stream",
     "text": [
      "+ - - - -  + - - - -  +\n",
      "|          |          |\n",
      "|          |          |\n",
      "|          |          |\n",
      "|          |          |\n",
      "+ - - - -  + - - - -  +\n",
      "|          |          |\n",
      "|          |          |\n",
      "|          |          |\n",
      "|          |          |\n",
      "+ - - - -  + - - - -  +\n",
      "\n",
      "+ - - - -  + - - - - + - - - -  + - - - - +\n",
      "|          |         |          |         |\n",
      "|          |         |          |         |\n",
      "|          |         |          |         |\n",
      "|          |         |          |         |\n",
      "+ - - - -  + - - - - + - - - -  + - - - - +\n",
      "|          |         |          |         |\n",
      "|          |         |          |         |\n",
      "|          |         |          |         |\n",
      "|          |         |          |         |\n",
      "+ - - - -  + - - - - + - - - -  + - - - - +\n",
      "|          |         |          |         |\n",
      "|          |         |          |         |\n",
      "|          |         |          |         |\n",
      "|          |         |          |         |\n",
      "+ - - - -  + - - - - + - - - -  + - - - - +\n",
      "|          |         |          |         |\n",
      "|          |         |          |         |\n",
      "|          |         |          |         |\n",
      "|          |         |          |         |\n",
      "+ - - - -  + - - - - + - - - -  + - - - - +\n"
     ]
    }
   ],
   "source": [
    "def print_top():\n",
    "    print('+', '- '*4, '+','- '*4,'+')\n",
    "def print_tops():\n",
    "    print('+', '- '*4, '+','- '*4, end='')\n",
    "    print('+', '- '*4, '+','- '*4, end='')\n",
    "    print('+')\n",
    "    \n",
    "def print_middle():\n",
    "    print('|', ' '*8, '|', ' '*8, '|')\n",
    "def print_middles():\n",
    "    print('|', ' '*8, '|', ' '*8, end='')\n",
    "    print('|', ' '*8, '|', ' '*8, end='')\n",
    "    print('|')\n",
    "    \n",
    "def print_bigrow():\n",
    "    print_middles()\n",
    "    print_middles()\n",
    "    print_middles()\n",
    "    print_middles()\n",
    "    print_tops()\n",
    "\n",
    "print_top()\n",
    "print_middle()\n",
    "print_middle()\n",
    "print_middle()\n",
    "print_middle()\n",
    "print_top()\n",
    "print_middle()\n",
    "print_middle()\n",
    "print_middle()\n",
    "print_middle()\n",
    "print_top()\n",
    "\n",
    "print()\n",
    "\n",
    "def print_bigger():\n",
    "    print_tops()\n",
    "    print_bigrow()\n",
    "    print_bigrow()\n",
    "    print_bigrow()\n",
    "    print_bigrow()\n",
    "    \n",
    "print_bigger()\n",
    "\n"
   ]
  }
 ],
 "metadata": {
  "kernelspec": {
   "display_name": "Python 3",
   "language": "python",
   "name": "python3"
  },
  "language_info": {
   "codemirror_mode": {
    "name": "ipython",
    "version": 3
   },
   "file_extension": ".py",
   "mimetype": "text/x-python",
   "name": "python",
   "nbconvert_exporter": "python",
   "pygments_lexer": "ipython3",
   "version": "3.6.0"
  }
 },
 "nbformat": 4,
 "nbformat_minor": 2
}
