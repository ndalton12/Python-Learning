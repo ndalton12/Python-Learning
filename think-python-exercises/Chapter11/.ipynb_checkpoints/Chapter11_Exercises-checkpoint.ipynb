{
 "cells": [
  {
   "cell_type": "markdown",
   "metadata": {},
   "source": [
    "# Chapter 11 Exercises"
   ]
  },
  {
   "cell_type": "markdown",
   "metadata": {},
   "source": [
    "## Exercise 11.1\n",
    "Write a function that reads the words in words.txt and stores them as keys in a\n",
    "dictionary. It doesn’t matter what the values are. Then you can use the in operator as a fast way to\n",
    "check whether a string is in the dictionary.\n",
    "If you did Exercise 10.10, you can compare the speed of this implementation with the list in operator\n",
    "and the bisection search."
   ]
  },
  {
   "cell_type": "code",
   "execution_count": 73,
   "metadata": {
    "collapsed": false
   },
   "outputs": [],
   "source": [
    "fin = open('words.txt')\n",
    "dic = dict()\n",
    "\n",
    "for line in fin:\n",
    "    dic[line.strip()] = line"
   ]
  },
  {
   "cell_type": "markdown",
   "metadata": {},
   "source": [
    "## Exercise 11.2\n",
    "Read the documentation of the dictionary method setdefault and use it to write a\n",
    "more concise version of invert_dict. "
   ]
  },
  {
   "cell_type": "code",
   "execution_count": 11,
   "metadata": {
    "collapsed": false
   },
   "outputs": [
    {
     "name": "stdout",
     "output_type": "stream",
     "text": [
      "{'uno': ['one'], 'dos': ['two'], 'tres': ['three']}\n",
      "{'uno': ['one'], 'dos': ['two'], 'tres': ['three']}\n"
     ]
    }
   ],
   "source": [
    "def invert_dict(d):\n",
    "    inverse = dict()\n",
    "    for key in d:\n",
    "        val = d[key]\n",
    "        inverse.setdefault(val, []).append(key)\n",
    "    return inverse\n",
    "    \n",
    "def invert_dict_original(d):\n",
    "    inverse = dict()\n",
    "    for key in d:\n",
    "        val = d[key]\n",
    "        if val not in inverse:\n",
    "            inverse[val] = [key]\n",
    "        else:\n",
    "            inverse[val].append(key)\n",
    "    return inverse\n",
    "\n",
    "eng2sp = {'one': 'uno', 'two': 'dos', 'three': 'tres'}\n",
    "\n",
    "print(invert_dict(eng2sp))\n",
    "print(invert_dict_original(eng2sp))"
   ]
  },
  {
   "cell_type": "markdown",
   "metadata": {},
   "source": [
    "## Exercise 11.3\n",
    "Memoize the Ackermann function from Exercise 6.2 and see if memoization\n",
    "makes it possible to evaluate the function with bigger arguments."
   ]
  },
  {
   "cell_type": "code",
   "execution_count": 16,
   "metadata": {
    "collapsed": false
   },
   "outputs": [
    {
     "name": "stdout",
     "output_type": "stream",
     "text": [
      "125\n",
      "125\n"
     ]
    }
   ],
   "source": [
    "def ack_original(m,n):\n",
    "    if not isinstance(m, int) or not isinstance(n,int):\n",
    "        print('Undefined for non-integer inputs')\n",
    "        return None\n",
    "    elif m < 0 or n < 0:\n",
    "        print('Undefined for negative inputs')\n",
    "        return None\n",
    "    elif m == 0:\n",
    "        return n+1\n",
    "    elif n == 0:\n",
    "        return ack(m-1,1)\n",
    "    else:\n",
    "        return ack(m-1, ack(m,n-1))\n",
    "    \n",
    "known = dict()\n",
    "    \n",
    "def ack(m,n):  \n",
    "    if not isinstance(m, int) or not isinstance(n,int):\n",
    "        print('Undefined for non-integer inputs')\n",
    "        return None\n",
    "    elif m < 0 or n < 0:\n",
    "        print('Undefined for negative inputs')\n",
    "        return None\n",
    "    elif str(str(m)+' '+str(n)) in known:\n",
    "        return known[str(str(m)+' '+str(n))]\n",
    "    elif m == 0:\n",
    "        known[str(str(m)+' '+str(n))] = n+1\n",
    "        return n+1\n",
    "    elif n == 0:\n",
    "        return ack(m-1,1)\n",
    "    else:\n",
    "        return ack(m-1, ack(m,n-1))\n",
    "    \n",
    "print(ack_original(3,4))\n",
    "print(ack(3,4))"
   ]
  },
  {
   "cell_type": "markdown",
   "metadata": {},
   "source": [
    "## Exercise 11.4\n",
    "If you did Exercise 10.7, you already have a function named has_duplicates that\n",
    "takes a list as a parameter and returns True if there is any object that appears more than once in the\n",
    "list.\n",
    "Use a dictionary to write a faster, simpler version of has_duplicates."
   ]
  },
  {
   "cell_type": "code",
   "execution_count": 20,
   "metadata": {
    "collapsed": false
   },
   "outputs": [
    {
     "name": "stdout",
     "output_type": "stream",
     "text": [
      "False\n",
      "True\n"
     ]
    }
   ],
   "source": [
    "def has_duplicates(listo):\n",
    "    tmp = dict()\n",
    "    for element in listo:\n",
    "        if element in tmp:\n",
    "            return True\n",
    "        else:\n",
    "            tmp[element] = 0\n",
    "    return False\n",
    "\n",
    "listey = [1,2,3]\n",
    "listey2the_return_of_listey = [1,1,1]\n",
    "\n",
    "print(has_duplicates(listey))\n",
    "print(has_duplicates(listey2the_return_of_listey))"
   ]
  },
  {
   "cell_type": "markdown",
   "metadata": {},
   "source": [
    "## Exercise 11.5\n",
    "Two words are “rotate pairs” if you can rotate one of them and get the other (see\n",
    "rotate_word in Exercise 8.5).\n",
    "Write a program that reads a wordlist and finds all the rotate pairs."
   ]
  },
  {
   "cell_type": "code",
   "execution_count": 42,
   "metadata": {
    "collapsed": false
   },
   "outputs": [
    {
     "name": "stdout",
     "output_type": "stream",
     "text": [
      "ibm HAL\n",
      "cheer jolly\n"
     ]
    }
   ],
   "source": [
    "def rotate_word(s, rot):\n",
    "    new = ''\n",
    "    for c in s:\n",
    "        if c != ' ':\n",
    "            term = ord(c) + rot\n",
    "            if c.islower() and term < 97:\n",
    "                term = 122 - (96 - term)\n",
    "            if c.islower() and term > 122:\n",
    "                term = 96 + (term - 122)\n",
    "            if c.isupper() and term < 64:\n",
    "                term = 90 - (64 - term)\n",
    "            if c.isupper() and term > 90:\n",
    "                term = 64 + (term - 90)\n",
    "            new += chr(term)\n",
    "        else:\n",
    "            new += ' '\n",
    "    return new\n",
    "\n",
    "def find_rotate_pairs(wordlist):\n",
    "    tmpdict = dict()\n",
    "    for element in wordlist:\n",
    "        tmplist = []\n",
    "        for i in range(25):\n",
    "            tmplist.append(rotate_word(element.lower().strip(), i+1))\n",
    "            for key in tmpdict:\n",
    "                if tmplist[len(tmplist)-1] == key.lower():\n",
    "                    print(tmplist[len(tmplist)-1] + ' ' + element)\n",
    "            \n",
    "        tmpdict[element] = tmplist\n",
    "    \n",
    "    #print(tmpdict)  \n",
    "\n",
    "find_rotate_pairs(['IBM', 'cheer', 'HAL', 'jolly', 'lan'])"
   ]
  },
  {
   "cell_type": "markdown",
   "metadata": {},
   "source": [
    "## Exercise 11.6\n",
    "Here’s another Puzzler from Car Talk (http: // www. cartalk. com/ content/\n",
    "puzzlers ):\n",
    "This was sent in by a fellow named Dan O’Leary. He came upon a common one-syllable,\n",
    "five-letter word recently that has the following unique property. When you remove the\n",
    "first letter, the remaining letters form a homophone of the original word, that is a word\n",
    "that sounds exactly the same. Replace the first letter, that is, put it back and remove\n",
    "the second letter and the result is yet another homophone of the original word. And the\n",
    "question is, what’s the word?\n",
    "Now I’m going to give you an example that doesn’t work. Let’s look at the five-letter\n",
    "word, ‘wrack.’ W-R-A-C-K, you know like to ‘wrack with pain.’ If I remove the first\n",
    "letter, I am left with a four-letter word, ’R-A-C-K.’ As in, ‘Holy cow, did you see the\n",
    "rack on that buck! It must have been a nine-pointer!’ It’s a perfect homophone. If you\n",
    "put the ‘w’ back, and remove the ‘r,’ instead, you’re left with the word, ‘wack,’ which is\n",
    "a real word, it’s just not a homophone of the other two words.\n",
    "But there is, however, at least one word that Dan and we know of, which will yield two\n",
    "homophones if you remove either of the first two letters to make two, new four-letter\n",
    "words. The question is, what’s the word?\n",
    "You can use the dictionary from Exercise 11.1 to check whether a string is in the word list"
   ]
  },
  {
   "cell_type": "code",
   "execution_count": 78,
   "metadata": {
    "collapsed": false
   },
   "outputs": [
    {
     "name": "stdout",
     "output_type": "stream",
     "text": [
      "llama lama lama\n",
      "llamas lamas lamas\n",
      "scent cent sent\n"
     ]
    }
   ],
   "source": [
    "# From book\n",
    "def read_dictionary(filename='c06d.txt'):\n",
    "    \"\"\"Reads from a file and builds a dictionary that maps from\n",
    "    each word to a string that describes its primary pronunciation.\n",
    "\n",
    "    Secondary pronunciations are added to the dictionary with\n",
    "    a number, in parentheses, at the end of the key, so the\n",
    "    key for the second pronunciation of \"abdominal\" is \"abdominal(2)\".\n",
    "\n",
    "    filename: string\n",
    "    returns: map from string to pronunciation\n",
    "    \"\"\"\n",
    "    d = dict()\n",
    "    fin = open(filename)\n",
    "    for line in fin:\n",
    "\n",
    "        # skip over the comments\n",
    "        if line[0] == '#': continue\n",
    "\n",
    "        t = line.split()\n",
    "        word = t[0].lower()\n",
    "        pron = ' '.join(t[1:])\n",
    "        d[word] = pron\n",
    "\n",
    "    return d\n",
    "\n",
    "pronounce = read_dictionary()\n",
    "# dic is word dictionary\n",
    "\n",
    "def homophones(word1, word2, pronounce):\n",
    "    if word1 not in pronounce or word2 not in pronounce:\n",
    "        return False\n",
    "\n",
    "    return pronounce[word1] == pronounce[word2]\n",
    "\n",
    "def check(word, dic, pronounce):\n",
    "    word1 = word[1:] \n",
    "    if word1 not in dic:\n",
    "        return False\n",
    "    if not homophones(word, word1, pronounce):\n",
    "        return False\n",
    "\n",
    "    word2 = word[0] + word[2:]\n",
    "    if word2 not in dic:\n",
    "        return False\n",
    "    if not homophones(word, word2, pronounce):\n",
    "        return False\n",
    "\n",
    "    return True\n",
    "\n",
    "for word in dic:\n",
    "    if check(word, dic, pronounce):\n",
    "        print(word, word[1:], word[0] + word[2:])\n",
    "        "
   ]
  }
 ],
 "metadata": {
  "kernelspec": {
   "display_name": "Python 3",
   "language": "python",
   "name": "python3"
  },
  "language_info": {
   "codemirror_mode": {
    "name": "ipython",
    "version": 3
   },
   "file_extension": ".py",
   "mimetype": "text/x-python",
   "name": "python",
   "nbconvert_exporter": "python",
   "pygments_lexer": "ipython3",
   "version": "3.6.0"
  }
 },
 "nbformat": 4,
 "nbformat_minor": 2
}
