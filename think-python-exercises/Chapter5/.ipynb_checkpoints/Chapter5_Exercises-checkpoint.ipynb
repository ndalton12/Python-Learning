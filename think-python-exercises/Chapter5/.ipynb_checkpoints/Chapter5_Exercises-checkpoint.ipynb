{
 "cells": [
  {
   "cell_type": "markdown",
   "metadata": {},
   "source": [
    "# Chapter 5 Exercises"
   ]
  },
  {
   "cell_type": "markdown",
   "metadata": {},
   "source": [
    "## Exercise 5.1\n",
    "The time module provides a function, also named time, that returns the current\n",
    "Greenwich Mean Time in “the epoch”, which is an arbitrary time used as a reference point. On\n",
    "UNIX systems, the epoch is 1 January 1970.\n",
    "\n",
    "Write a script that reads the current time and converts it to a time of day in hours, minutes, and\n",
    "seconds, plus the number of days since the epoch."
   ]
  },
  {
   "cell_type": "code",
   "execution_count": 18,
   "metadata": {
    "collapsed": false,
    "scrolled": true
   },
   "outputs": [
    {
     "name": "stdout",
     "output_type": "stream",
     "text": [
      "Time() returns 1496001224.27\n",
      "Days since the epoch: 17314.83\n",
      "Hours since the epoch: 415555.90\n",
      "Minutes since the epoch: 24933353.74\n",
      "Seconds since the epoch: 1496001224.27\n"
     ]
    }
   ],
   "source": [
    "import time\n",
    "timey = time.time()\n",
    "\n",
    "hours = timey / 3600\n",
    "minutes = timey / 60\n",
    "seconds = timey\n",
    "\n",
    "daysSince = timey / (3600*24)\n",
    "\n",
    "print('Time() returns {:.2f}'.format(timey))\n",
    "print('Days since the epoch: {:.2f}'.format(daysSince))\n",
    "print('Hours since the epoch: {:.2f}'.format(hours))\n",
    "print('Minutes since the epoch: {:.2f}'.format(minutes))\n",
    "print('Seconds since the epoch: {:.2f}'.format(seconds))"
   ]
  },
  {
   "cell_type": "markdown",
   "metadata": {},
   "source": [
    "## Exercise 5.2\n",
    "Write a function named check_fermat that takes four parameters—a, b, c and n—and\n",
    "checks to see if Fermat’s theorem holds. If n is greater than 2 and\n",
    "a\n",
    "n + b\n",
    "n = c\n",
    "n\n",
    "the program should print, “Holy smokes, Fermat was wrong!” Otherwise the program should\n",
    "print, “No, that doesn’t work.”\n",
    "\n",
    "Write a function that prompts the user to input values for a, b, c and n, converts them to\n",
    "integers, and uses check_fermat to check whether they violate Fermat’s theorem.\n"
   ]
  },
  {
   "cell_type": "code",
   "execution_count": 27,
   "metadata": {
    "collapsed": true
   },
   "outputs": [],
   "source": [
    "def check_fermat(a,b,c,n):\n",
    "    if n > 2 and a**n+b**n==c**n:\n",
    "        print(\"HOLY SMOKES, FERMAT was WRONG!\")\n",
    "    else:\n",
    "        print(\"...Dang, that doesn't work\")\n",
    "        \n",
    "def fermatUserCheck():\n",
    "    a = int(input('Input a value for a: '))\n",
    "    b = int(input('Input a value for b: '))\n",
    "    c = int(input('Input a value for c: '))\n",
    "    n = int(input('Input a value for n: '))\n",
    "    check_fermat(a,b,c,n)\n",
    "    \n",
    "    "
   ]
  },
  {
   "cell_type": "code",
   "execution_count": 29,
   "metadata": {
    "collapsed": false
   },
   "outputs": [
    {
     "name": "stdout",
     "output_type": "stream",
     "text": [
      "Input a value for a: 3\n",
      "Input a value for b: 4\n",
      "Input a value for c: 5\n",
      "Input a value for n: 123\n",
      "...Dang, that doesn't work\n"
     ]
    }
   ],
   "source": [
    "fermatUserCheck()"
   ]
  },
  {
   "cell_type": "markdown",
   "metadata": {},
   "source": [
    "Nuts."
   ]
  },
  {
   "cell_type": "markdown",
   "metadata": {},
   "source": [
    "## Exercise 5.3\n",
    "If you are given three sticks, you may or may not be able to arrange them in a triangle.\n",
    "For example, if one of the sticks is 12 inches long and the other two are one inch long, you will not\n",
    "be able to get the short sticks to meet in the middle. For any three lengths, there is a simple test to\n",
    "see if it is possible to form a triangle:\n",
    "\n",
    "If any of the three lengths is greater than the sum of the other two, then you cannot\n",
    "form a triangle. Otherwise, you can. (If the sum of two lengths equals the third, they\n",
    "form what is called a “degenerate” triangle.)\n",
    "\n",
    "\n",
    "Write a function named is_triangle that takes three integers as arguments, and that prints\n",
    "either “Yes” or “No”, depending on whether you can or cannot form a triangle from sticks\n",
    "with the given lengths.\n",
    "\n",
    "Write a function that prompts the user to input three stick lengths, converts them to integers,\n",
    "and uses is_triangle to check whether sticks with the given lengths can form a triangle"
   ]
  },
  {
   "cell_type": "code",
   "execution_count": 32,
   "metadata": {
    "collapsed": false
   },
   "outputs": [
    {
     "name": "stdout",
     "output_type": "stream",
     "text": [
      "Input a value for a: 30\n",
      "Input a value for b: 1\n",
      "Input a value for c: 1\n",
      "No\n"
     ]
    }
   ],
   "source": [
    "def is_triangle(a,b,c):\n",
    "    if c < a+b and a < b+c and b < c+a:\n",
    "        print('Yes')\n",
    "    else:\n",
    "        print('No')\n",
    "        \n",
    "def triangleUserCheck():\n",
    "    a = int(input('Input a value for a: '))\n",
    "    b = int(input('Input a value for b: '))\n",
    "    c = int(input('Input a value for c: '))\n",
    "    is_triangle(a,b,c)\n",
    "\n",
    "triangleUserCheck()\n",
    "        "
   ]
  },
  {
   "cell_type": "markdown",
   "metadata": {},
   "source": [
    "## Exercise 5.4\n",
    "What is the output of the following program?\n"
   ]
  },
  {
   "cell_type": "code",
   "execution_count": 33,
   "metadata": {
    "collapsed": false
   },
   "outputs": [
    {
     "name": "stdout",
     "output_type": "stream",
     "text": [
      "6\n"
     ]
    }
   ],
   "source": [
    "def recurse(n, s):\n",
    "    if n == 0:\n",
    "        print(s)\n",
    "    else:\n",
    "        recurse(n-1, n+s)\n",
    "        \n",
    "recurse(3, 0)"
   ]
  },
  {
   "cell_type": "markdown",
   "metadata": {},
   "source": [
    "What would happen if you called this function like this: recurse(-1, 0)?"
   ]
  },
  {
   "cell_type": "code",
   "execution_count": 59,
   "metadata": {
    "collapsed": false
   },
   "outputs": [
    {
     "ename": "RecursionError",
     "evalue": "maximum recursion depth exceeded in comparison",
     "output_type": "error",
     "traceback": [
      "\u001b[0;31m---------------------------------------------------------------------------\u001b[0m",
      "\u001b[0;31mRecursionError\u001b[0m                            Traceback (most recent call last)",
      "\u001b[0;32m<ipython-input-59-5ee6508d2be3>\u001b[0m in \u001b[0;36m<module>\u001b[0;34m()\u001b[0m\n\u001b[0;32m----> 1\u001b[0;31m \u001b[0mrecurse\u001b[0m\u001b[1;33m(\u001b[0m\u001b[1;33m-\u001b[0m\u001b[1;36m1\u001b[0m\u001b[1;33m,\u001b[0m\u001b[1;36m0\u001b[0m\u001b[1;33m)\u001b[0m\u001b[1;33m\u001b[0m\u001b[0m\n\u001b[0m",
      "\u001b[0;32m<ipython-input-33-e1dc0aea2150>\u001b[0m in \u001b[0;36mrecurse\u001b[0;34m(n, s)\u001b[0m\n\u001b[1;32m      3\u001b[0m         \u001b[0mprint\u001b[0m\u001b[1;33m(\u001b[0m\u001b[0ms\u001b[0m\u001b[1;33m)\u001b[0m\u001b[1;33m\u001b[0m\u001b[0m\n\u001b[1;32m      4\u001b[0m     \u001b[1;32melse\u001b[0m\u001b[1;33m:\u001b[0m\u001b[1;33m\u001b[0m\u001b[0m\n\u001b[0;32m----> 5\u001b[0;31m         \u001b[0mrecurse\u001b[0m\u001b[1;33m(\u001b[0m\u001b[0mn\u001b[0m\u001b[1;33m-\u001b[0m\u001b[1;36m1\u001b[0m\u001b[1;33m,\u001b[0m \u001b[0mn\u001b[0m\u001b[1;33m+\u001b[0m\u001b[0ms\u001b[0m\u001b[1;33m)\u001b[0m\u001b[1;33m\u001b[0m\u001b[0m\n\u001b[0m\u001b[1;32m      6\u001b[0m \u001b[1;33m\u001b[0m\u001b[0m\n\u001b[1;32m      7\u001b[0m \u001b[0mrecurse\u001b[0m\u001b[1;33m(\u001b[0m\u001b[1;36m3\u001b[0m\u001b[1;33m,\u001b[0m \u001b[1;36m0\u001b[0m\u001b[1;33m)\u001b[0m\u001b[1;33m\u001b[0m\u001b[0m\n",
      "... last 1 frames repeated, from the frame below ...\n",
      "\u001b[0;32m<ipython-input-33-e1dc0aea2150>\u001b[0m in \u001b[0;36mrecurse\u001b[0;34m(n, s)\u001b[0m\n\u001b[1;32m      3\u001b[0m         \u001b[0mprint\u001b[0m\u001b[1;33m(\u001b[0m\u001b[0ms\u001b[0m\u001b[1;33m)\u001b[0m\u001b[1;33m\u001b[0m\u001b[0m\n\u001b[1;32m      4\u001b[0m     \u001b[1;32melse\u001b[0m\u001b[1;33m:\u001b[0m\u001b[1;33m\u001b[0m\u001b[0m\n\u001b[0;32m----> 5\u001b[0;31m         \u001b[0mrecurse\u001b[0m\u001b[1;33m(\u001b[0m\u001b[0mn\u001b[0m\u001b[1;33m-\u001b[0m\u001b[1;36m1\u001b[0m\u001b[1;33m,\u001b[0m \u001b[0mn\u001b[0m\u001b[1;33m+\u001b[0m\u001b[0ms\u001b[0m\u001b[1;33m)\u001b[0m\u001b[1;33m\u001b[0m\u001b[0m\n\u001b[0m\u001b[1;32m      6\u001b[0m \u001b[1;33m\u001b[0m\u001b[0m\n\u001b[1;32m      7\u001b[0m \u001b[0mrecurse\u001b[0m\u001b[1;33m(\u001b[0m\u001b[1;36m3\u001b[0m\u001b[1;33m,\u001b[0m \u001b[1;36m0\u001b[0m\u001b[1;33m)\u001b[0m\u001b[1;33m\u001b[0m\u001b[0m\n",
      "\u001b[0;31mRecursionError\u001b[0m: maximum recursion depth exceeded in comparison"
     ]
    }
   ],
   "source": [
    "recurse(-1,0)"
   ]
  },
  {
   "cell_type": "markdown",
   "metadata": {},
   "source": [
    "Write a docstring that explains everything someone would need to know in order to use this\n",
    "function (and nothing else).\n"
   ]
  },
  {
   "cell_type": "code",
   "execution_count": 58,
   "metadata": {
    "collapsed": false
   },
   "outputs": [
    {
     "data": {
      "text/plain": [
       "'\\nComputes the nth triangle number with an additional s offset added\\nn must be an integer, s may be a float/double or int\\n'"
      ]
     },
     "execution_count": 58,
     "metadata": {},
     "output_type": "execute_result"
    }
   ],
   "source": [
    "\"\"\"\n",
    "Computes the nth triangle number with an additional s offset added\n",
    "n must be an integer, s may be a float/double or int\n",
    "\"\"\""
   ]
  }
 ],
 "metadata": {
  "kernelspec": {
   "display_name": "Python 3",
   "language": "python",
   "name": "python3"
  },
  "language_info": {
   "codemirror_mode": {
    "name": "ipython",
    "version": 3
   },
   "file_extension": ".py",
   "mimetype": "text/x-python",
   "name": "python",
   "nbconvert_exporter": "python",
   "pygments_lexer": "ipython3",
   "version": "3.6.0"
  }
 },
 "nbformat": 4,
 "nbformat_minor": 2
}
