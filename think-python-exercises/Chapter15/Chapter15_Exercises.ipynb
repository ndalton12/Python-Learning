{
 "cells": [
  {
   "cell_type": "markdown",
   "metadata": {},
   "source": [
    "## Chapter 15 Exercises"
   ]
  },
  {
   "cell_type": "markdown",
   "metadata": {},
   "source": [
    "## Exercise 15.1\n",
    "Write a definition for a class named Circle with attributes center and radius,\n",
    "where center is a Point object and radius is a number.\n",
    "Instantiate a Circle object that represents a circle with its center at (150, 100) and radius 75.\n",
    "Write a function named point_in_circle that takes a Circle and a Point and returns True if the\n",
    "Point lies in or on the boundary of the circle.\n",
    "Write a function named rect_in_circle that takes a Circle and a Rectangle and returns True if\n",
    "the Rectangle lies entirely in or on the boundary of the circle.\n",
    "Write a function named rect_circle_overlap that takes a Circle and a Rectangle and returns\n",
    "True if any of the corners of the Rectangle fall inside the circle. Or as a more challenging version,\n",
    "return True if any part of the Rectangle falls inside the circle."
   ]
  },
  {
   "cell_type": "code",
   "execution_count": 4,
   "metadata": {
    "collapsed": false
   },
   "outputs": [],
   "source": [
    "import math\n",
    "\n",
    "class Point:\n",
    "    \"\"\"Represents a point in 2-D space.\n",
    "\n",
    "    attributes: x, y\n",
    "    \"\"\"\n",
    "\n",
    "class Circle:\n",
    "    \"\"\"Represents a circle.\n",
    "\n",
    "    Attributes: center, radius\n",
    "    \"\"\"\n",
    "class Rectangle:\n",
    "    \"\"\"Represents a rectangle. \n",
    "\n",
    "    attributes: width, height, corner.\n",
    "    \"\"\"\n",
    "    \n",
    "def distance(point1, point2):\n",
    "    return math.sqrt((point2.x - point1.x)**2 + (point2.y - point1.x)**2)\n",
    "    \n",
    "def point_in_circle(circle, point):\n",
    "    if distance(circle.center, point) <= circle.radius:\n",
    "        return True\n",
    "    else:\n",
    "        return False\n",
    "\n",
    "def rect_in_circle(rect, circle):\n",
    "    point = copy.copy(rect.corner)\n",
    "    print_point(p)\n",
    "    if not point_in_circle(p, circle):\n",
    "        return False\n",
    "\n",
    "    p.x += rect.width\n",
    "    print_point(p)\n",
    "    if not point_in_circle(p, circle):\n",
    "        return False\n",
    "\n",
    "    p.y -= rect.height\n",
    "    print_point(p)\n",
    "    if not point_in_circle(p, circle):\n",
    "        return False\n",
    "\n",
    "    p.x -= rect.width\n",
    "    print_point(p)\n",
    "    if not point_in_circle(p, circle):\n",
    "        return False\n",
    "\n",
    "    return True\n",
    "\n",
    "def rect_circle_overlap(circle, rectangle):\n",
    "    point = copy.copy(rect.corner)\n",
    "    print_point(p)\n",
    "    if point_in_circle(p, circle):\n",
    "        return True\n",
    "\n",
    "    p.x += rect.width\n",
    "    print_point(p)\n",
    "    if point_in_circle(p, circle):\n",
    "        return True\n",
    "\n",
    "    p.y -= rect.height\n",
    "    print_point(p)\n",
    "    if point_in_circle(p, circle):\n",
    "        return True\n",
    "\n",
    "    p.x -= rect.width\n",
    "    print_point(p)\n",
    "    if point_in_circle(p, circle):\n",
    "        return True\n",
    "\n",
    "    return False\n",
    "    \n",
    "if __name__ == '__main__':\n",
    "    circle = Circle()\n",
    "    circle.center = Point()\n",
    "    circle.center.x = 150\n",
    "    circle.center.y = 100\n",
    "    circle.radius = 75"
   ]
  }
 ],
 "metadata": {
  "kernelspec": {
   "display_name": "Python 3",
   "language": "python",
   "name": "python3"
  },
  "language_info": {
   "codemirror_mode": {
    "name": "ipython",
    "version": 3
   },
   "file_extension": ".py",
   "mimetype": "text/x-python",
   "name": "python",
   "nbconvert_exporter": "python",
   "pygments_lexer": "ipython3",
   "version": "3.6.0"
  }
 },
 "nbformat": 4,
 "nbformat_minor": 2
}
