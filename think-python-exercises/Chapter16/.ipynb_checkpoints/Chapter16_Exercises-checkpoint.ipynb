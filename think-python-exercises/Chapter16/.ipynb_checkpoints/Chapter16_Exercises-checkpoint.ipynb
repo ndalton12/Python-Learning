{
 "cells": [
  {
   "cell_type": "markdown",
   "metadata": {},
   "source": [
    "# Chapter 16 Exercises"
   ]
  },
  {
   "cell_type": "code",
   "execution_count": 2,
   "metadata": {
    "collapsed": true
   },
   "outputs": [],
   "source": [
    "class Time:\n",
    "    \"\"\"Represents the time of day.\n",
    "    attributes: hour, minute, second\n",
    "    \"\"\"\n",
    "    \n",
    "def time_to_int(time):\n",
    "    minutes = time.hour * 60 + time.minute\n",
    "    seconds = minutes * 60 + time.second\n",
    "    return seconds\n",
    "\n",
    "def int_to_time(seconds):\n",
    "    time = Time()\n",
    "    minutes, time.second = divmod(seconds, 60)\n",
    "    time.hour, time.minute = divmod(minutes, 60)\n",
    "    return time\n",
    "\n",
    "def valid_time(time):\n",
    "    if time.hour < 0 or time.minute < 0 or time.second < 0:\n",
    "        return False\n",
    "    if time.minute >= 60 or time.second >= 60:\n",
    "        return False\n",
    "    return True\n",
    "\n",
    "def add_time(t1, t2):\n",
    "    assert valid_time(t1) and valid_time(t2)\n",
    "    seconds = time_to_int(t1) + time_to_int(t2)\n",
    "    return int_to_time(seconds)\n",
    "\n",
    "time = Time()\n",
    "time.hour = 11\n",
    "time.minute = 59\n",
    "time.second = 30"
   ]
  },
  {
   "cell_type": "markdown",
   "metadata": {},
   "source": [
    "## Exercise 16.1\n",
    "Write a function called mul_time that takes a Time object and a number and returns\n",
    "a new Time object that contains the product of the original Time and the number.\n",
    "Then use mul_time to write a function that takes a Time object that represents the finishing time\n",
    "in a race, and a number that represents the distance, and returns a Time object that represents the\n",
    "average pace (time per mile)."
   ]
  },
  {
   "cell_type": "code",
   "execution_count": 3,
   "metadata": {
    "collapsed": true
   },
   "outputs": [],
   "source": [
    "def mul_time(timey, number):\n",
    "    time = Time()\n",
    "    assert valid_time(time)\n",
    "    seconds = time_to_int(time) * number\n",
    "    \n",
    "    return int_to_time(seconds)\n",
    "\n",
    "def race(timey, distance):\n",
    "    time = Time()\n",
    "    return mul_time(time, 1/distance)"
   ]
  },
  {
   "cell_type": "markdown",
   "metadata": {},
   "source": [
    "## Exercise 16.2\n",
    "The datetime module provides time objects that are similar to the Time objects\n",
    "in this chapter, but they provide a rich set of methods and operators. Read the documentation at\n",
    "http: // docs. python. org/ 3/ library/ datetime. html .\n",
    "1. Use the datetime module to write a program that gets the current date and prints the day of\n",
    "the week.\n",
    "2. Write a program that takes a birthday as input and prints the user’s age and the number of\n",
    "days, hours, minutes and seconds until their next birthday.\n",
    "3. For two people born on different days, there is a day when one is twice as old as the other.\n",
    "That’s their Double Day. Write a program that takes two birthdays and computes their Double\n",
    "Day.\n",
    "4. For a little more challenge, write the more general version that computes the day when one\n",
    "person is n times older than the other.\n"
   ]
  },
  {
   "cell_type": "code",
   "execution_count": 35,
   "metadata": {
    "collapsed": false
   },
   "outputs": [
    {
     "name": "stdout",
     "output_type": "stream",
     "text": [
      "Tuesday\n",
      "33.45205479452055\n",
      "208 days, 7:00:22.482730\n"
     ]
    }
   ],
   "source": [
    "import datetime\n",
    "import calendar\n",
    "\n",
    "def print_day():\n",
    "    print(calendar.day_name[datetime.datetime.today().weekday()])\n",
    "    \n",
    "def age(birthday):\n",
    "    \"\"\"birthday is a datetime date object\"\"\"\n",
    "    today = datetime.datetime.today()\n",
    "    next_birthday = datetime.datetime(today.year, birthday.month, birthday.day)\n",
    "    if next_birthday < today:\n",
    "        next_birthday = datetime.datetime(today.year + 1, birthday.month, birthday.day)\n",
    "    \n",
    "    print((today - birthday).days / 365)\n",
    "    print(next_birthday - today)\n",
    "    \n",
    "def double_day(bday1, bday2):\n",
    "    assert bday1 > bday2\n",
    "    delta = bday1 - bday2\n",
    "    double = bday1 + delta\n",
    "    return double\n",
    "\n",
    "def n_day(bday1, bday2, n):\n",
    "    assert bday1 > bday2\n",
    "    delta = bday1 - bday2\n",
    "    nday = bday1 + delta*(n-1)\n",
    "    return nday\n",
    "    \n",
    "print_day()\n",
    "birthday = datetime.datetime(1984,1,1)\n",
    "age(birthday)"
   ]
  }
 ],
 "metadata": {
  "kernelspec": {
   "display_name": "Python 3",
   "language": "python",
   "name": "python3"
  },
  "language_info": {
   "codemirror_mode": {
    "name": "ipython",
    "version": 3
   },
   "file_extension": ".py",
   "mimetype": "text/x-python",
   "name": "python",
   "nbconvert_exporter": "python",
   "pygments_lexer": "ipython3",
   "version": "3.6.0"
  }
 },
 "nbformat": 4,
 "nbformat_minor": 2
}
